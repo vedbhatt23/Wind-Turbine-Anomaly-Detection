{
  "nbformat": 4,
  "nbformat_minor": 0,
  "metadata": {
    "colab": {
      "provenance": []
    },
    "kernelspec": {
      "name": "python3",
      "display_name": "Python 3"
    },
    "language_info": {
      "name": "python"
    }
  },
  "cells": [
    {
      "cell_type": "code",
      "source": [
        "\n",
        "%%html\n",
        "<html lang=\"en\">\n",
        "  <head>\n",
        "    <meta charset=\"UTF-8\" />\n",
        "    <meta name=\"viewport\" content=\"width=device-width, initial-scale=1.0\" />\n",
        "    <meta name=\"description\" content=\"Glassmorphism\" />\n",
        "    <meta\n",
        "      name=\"keywords\"\n",
        "      content=\"glassmorphism, UIUX\"\n",
        "    />\n",
        "    <meta name=\"author\" content=\"emmaccen\" />\n",
        "    <title>Glass Morphism</title>\n",
        "    <style>\n",
        "      html {\n",
        "        height: 100%;\n",
        "      }\n",
        "      body {\n",
        "        margin: 0;\n",
        "        padding: 0;\n",
        "      }\n",
        "\n",
        "      * {\n",
        "        box-sizing: border-box;\n",
        "      }\n",
        "\n",
        "      .landingContainer {\n",
        "        /* span the entire desktop height : height: 100vh;*/\n",
        "        height: 100%;\n",
        "        font-family: consolas !important;\n",
        "        /* set a gradient background with 3 colours https://coolors.co/ */\n",
        "        background: linear-gradient(\n",
        "          to right,\n",
        "          #280b53,\n",
        "          #65156e,\n",
        "          #9f2a63,\n",
        "          #d44842\n",
        "        );\n",
        "        display: flex;\n",
        "        flex-direction: column;\n",
        "        align-items: center;\n",
        "        justify-content: space-around;\n",
        "      }\n",
        "\n",
        "      .centered {\n",
        "        /* center content */\n",
        "        display: flex;\n",
        "        flex-direction: column;\n",
        "        justify-content: center;\n",
        "        align-items: center;\n",
        "        /* so it takes up its containers height (landingContainer)*/\n",
        "        height: inherit;\n",
        "      }\n",
        "\n",
        "      h1.title {\n",
        "        color: whitesmoke;\n",
        "        font-family: georgia;\n",
        "        /* cover the entire page width : font-size: 10vw;*/\n",
        "        font-size: 6vw;\n",
        "        text-align: center;\n",
        "        margin-bottom: 0;\n",
        "        margin-top: 20px;\n",
        "      }\n",
        "\n",
        "      h2.title {\n",
        "        color: whitesmoke;\n",
        "        font-family: consolas;\n",
        "        /* cover the entire page width : font-size: 10vw;*/\n",
        "        font-size: 1.5vw;\n",
        "        margin-bottom: 16px;\n",
        "        margin-top: 0;\n",
        "        margin-left: 0;\n",
        "      }\n",
        "      /* The real deal  starts here*/\n",
        "      .glassContainer {\n",
        "        position: absolute;\n",
        "        /* center content */\n",
        "        display: flex;\n",
        "        justify-content: center;\n",
        "        align-items: center;\n",
        "        top: 0;\n",
        "        width: 100%;\n",
        "        height: 100%;\n",
        "      }\n",
        "      .cover {\n",
        "        transition: 0.5s all ease;\n",
        "        height: 70%;\n",
        "        width: 70%;\n",
        "        background-color: rgba(255, 255, 255, 0.25);\n",
        "        /* box-shadow: none|h-offset v-offset blur spread color |inset|initial|inherit; */\n",
        "        box-shadow: 0 8px 32px 0 rgba(31, 38, 135, 0.37);\n",
        "        /* For the fog-like glass effect */\n",
        "        backdrop-filter: blur(4px);\n",
        "        -webkit-backdrop-filter: blur(4px);\n",
        "        border-radius: 10px;\n",
        "      }\n",
        "\n",
        "      /* responsiveness */\n",
        "\n",
        "      @media (max-width: 700px) {\n",
        "        .cover {\n",
        "          height: 30%;\n",
        "        }\n",
        "      }\n",
        "    </style>\n",
        "  </head>\n",
        "  <body>\n",
        "    <div class=\"landingContainer\">\n",
        "      <div class=\"centered\">\n",
        "        <h1 class=\"title\">Wind Turbine Anomaly Detection</h1>\n",
        "        <h2 class=\"title\">Tejas Dalvi| Ved Bhatt| Medhansh Patley</h2>\n",
        "      </div>\n",
        "    </div>\n",
        "  </body>\n",
        "</html>"
      ],
      "metadata": {
        "colab": {
          "base_uri": "https://localhost:8080/",
          "height": 248
        },
        "id": "iUFc0xV3Bfx8",
        "outputId": "510ed0cc-5b18-4743-f215-afcf8674fc6b"
      },
      "execution_count": null,
      "outputs": [
        {
          "output_type": "display_data",
          "data": {
            "text/plain": [
              "<IPython.core.display.HTML object>"
            ],
            "text/html": [
              "<html lang=\"en\">\n",
              "  <head>\n",
              "    <meta charset=\"UTF-8\" />\n",
              "    <meta name=\"viewport\" content=\"width=device-width, initial-scale=1.0\" />\n",
              "    <meta name=\"description\" content=\"Glassmorphism\" />\n",
              "    <meta\n",
              "      name=\"keywords\"\n",
              "      content=\"glassmorphism, UIUX\"\n",
              "    />\n",
              "    <meta name=\"author\" content=\"emmaccen\" />\n",
              "    <title>Glass Morphism</title>\n",
              "    <style>\n",
              "      html {\n",
              "        height: 100%;\n",
              "      }\n",
              "      body {\n",
              "        margin: 0;\n",
              "        padding: 0;\n",
              "      }\n",
              "\n",
              "      * {\n",
              "        box-sizing: border-box;\n",
              "      }\n",
              "\n",
              "      .landingContainer {\n",
              "        /* span the entire desktop height : height: 100vh;*/\n",
              "        height: 100%;\n",
              "        font-family: consolas !important;\n",
              "        /* set a gradient background with 3 colours https://coolors.co/ */\n",
              "        background: linear-gradient(\n",
              "          to right,\n",
              "          #280b53,\n",
              "          #65156e,\n",
              "          #9f2a63,\n",
              "          #d44842\n",
              "        );\n",
              "        display: flex;\n",
              "        flex-direction: column;\n",
              "        align-items: center;\n",
              "        justify-content: space-around;\n",
              "      }\n",
              "\n",
              "      .centered {\n",
              "        /* center content */\n",
              "        display: flex;\n",
              "        flex-direction: column;\n",
              "        justify-content: center;\n",
              "        align-items: center;\n",
              "        /* so it takes up its containers height (landingContainer)*/\n",
              "        height: inherit;\n",
              "      }\n",
              "\n",
              "      h1.title {\n",
              "        color: whitesmoke;\n",
              "        font-family: georgia;\n",
              "        /* cover the entire page width : font-size: 10vw;*/\n",
              "        font-size: 6vw;\n",
              "        text-align: center;\n",
              "        margin-bottom: 0;\n",
              "        margin-top: 20px;\n",
              "      }\n",
              "\n",
              "      h2.title {\n",
              "        color: whitesmoke;\n",
              "        font-family: consolas;\n",
              "        /* cover the entire page width : font-size: 10vw;*/\n",
              "        font-size: 1.5vw;\n",
              "        margin-bottom: 16px;\n",
              "        margin-top: 0;\n",
              "        margin-left: 0;\n",
              "      }\n",
              "      /* The real deal  starts here*/\n",
              "      .glassContainer {\n",
              "        position: absolute;\n",
              "        /* center content */\n",
              "        display: flex;\n",
              "        justify-content: center;\n",
              "        align-items: center;\n",
              "        top: 0;\n",
              "        width: 100%;\n",
              "        height: 100%;\n",
              "      }\n",
              "      .cover {\n",
              "        transition: 0.5s all ease;\n",
              "        height: 70%;\n",
              "        width: 70%;\n",
              "        background-color: rgba(255, 255, 255, 0.25);\n",
              "        /* box-shadow: none|h-offset v-offset blur spread color |inset|initial|inherit; */\n",
              "        box-shadow: 0 8px 32px 0 rgba(31, 38, 135, 0.37);\n",
              "        /* For the fog-like glass effect */\n",
              "        backdrop-filter: blur(4px);\n",
              "        -webkit-backdrop-filter: blur(4px);\n",
              "        border-radius: 10px;\n",
              "      }\n",
              "\n",
              "      /* responsiveness */\n",
              "\n",
              "      @media (max-width: 700px) {\n",
              "        .cover {\n",
              "          height: 30%;\n",
              "        }\n",
              "      }\n",
              "    </style>\n",
              "  </head>\n",
              "  <body>\n",
              "    <div class=\"landingContainer\">\n",
              "      <div class=\"centered\">\n",
              "        <h1 class=\"title\">Wind Turbine Anomaly Detection</h1>\n",
              "        <h2 class=\"title\">Tejas Dalvi| Ved Bhatt| Medhansh Patley</h2>\n",
              "      </div>\n",
              "    </div>\n",
              "  </body>\n",
              "</html>\n"
            ]
          },
          "metadata": {}
        }
      ]
    },
    {
      "cell_type": "code",
      "source": [
        "import scipy.io\n",
        "import pandas as pd\n",
        "import matplotlib.pyplot as plt\n",
        "from sklearn.model_selection import train_test_split\n",
        "import seaborn as sns\n",
        "import tensorflow as tf\n",
        "from sklearn.metrics import confusion_matrix, accuracy_score, f1_score, recall_score, precision_score\n",
        "from sklearn.preprocessing import StandardScaler\n",
        "from sklearn.cluster import KMeans\n",
        "from sklearn.decomposition import PCA"
      ],
      "metadata": {
        "id": "ziQ_QtPFGKLS"
      },
      "execution_count": null,
      "outputs": []
    },
    {
      "cell_type": "code",
      "execution_count": null,
      "metadata": {
        "colab": {
          "base_uri": "https://localhost:8080/"
        },
        "id": "pfhZY667M0OO",
        "outputId": "27abdc70-edde-4079-9781-f0ddca1609f8"
      },
      "outputs": [
        {
          "output_type": "stream",
          "name": "stdout",
          "text": [
            "dict_keys(['__header__', '__version__', '__globals__', 'Speed', 'Torque', 'AN3', 'AN4', 'AN5', 'AN6', 'AN7', 'AN8', 'AN9', 'AN10'])\n"
          ]
        }
      ],
      "source": [
        "D1 = scipy.io.loadmat('/content/drive/MyDrive/Colab Notebooks/NREL/D1.mat')\n",
        "H1 = scipy.io.loadmat('/content/drive/MyDrive/Colab Notebooks/NREL/H1.mat')\n",
        "print(D1.keys())"
      ]
    },
    {
      "cell_type": "code",
      "source": [
        "print(H1.keys())"
      ],
      "metadata": {
        "colab": {
          "base_uri": "https://localhost:8080/"
        },
        "id": "nUpYPez65TSf",
        "outputId": "337d093a-e811-4176-884b-84c7fb0464ed"
      },
      "execution_count": null,
      "outputs": [
        {
          "output_type": "stream",
          "name": "stdout",
          "text": [
            "dict_keys(['__header__', '__version__', '__globals__', 'AN3', 'AN4', 'AN5', 'AN6', 'AN7', 'AN8', 'AN9', 'AN10', 'Speed'])\n"
          ]
        }
      ]
    },
    {
      "cell_type": "code",
      "source": [
        "from google.colab import drive\n",
        "drive.mount('/content/drive')"
      ],
      "metadata": {
        "colab": {
          "base_uri": "https://localhost:8080/"
        },
        "id": "_uVBZDVBvWL0",
        "outputId": "5d6401ae-40aa-459f-8a66-f358bf1fa007"
      },
      "execution_count": null,
      "outputs": [
        {
          "output_type": "stream",
          "name": "stdout",
          "text": [
            "Mounted at /content/drive\n"
          ]
        }
      ]
    },
    {
      "cell_type": "code",
      "source": [
        "Damaged = pd.DataFrame()\n",
        "Damaged['AN3'] = pd.DataFrame(D1['AN3'])\n",
        "Damaged['AN4'] = pd.DataFrame(D1['AN4'])\n",
        "Damaged['AN5'] = pd.DataFrame(D1['AN5'])\n",
        "Damaged['AN6'] = pd.DataFrame(D1['AN6'])\n",
        "Damaged['AN7'] = pd.DataFrame(D1['AN7'])\n",
        "Damaged['AN8'] = pd.DataFrame(D1['AN8'])\n",
        "Damaged['AN9'] = pd.DataFrame(D1['AN9'])\n",
        "Damaged['AN10'] = pd.DataFrame(D1['AN10'])\n",
        "# Damaged['Speed'] = pd.DataFrame(D1['Speed'])\n",
        "# Damaged['Torque'] = pd.DataFrame(D1['Torque'])"
      ],
      "metadata": {
        "id": "lFXBb3MEXx14"
      },
      "execution_count": null,
      "outputs": []
    },
    {
      "cell_type": "code",
      "source": [
        "Damaged"
      ],
      "metadata": {
        "colab": {
          "base_uri": "https://localhost:8080/",
          "height": 423
        },
        "id": "iu3oUl50rCPc",
        "outputId": "9da7ddac-dde9-4c39-b346-27a1442cfaea"
      },
      "execution_count": null,
      "outputs": [
        {
          "output_type": "execute_result",
          "data": {
            "text/plain": [
              "              AN3       AN4       AN5       AN6       AN7       AN8  \\\n",
              "0        2.545462 -2.361234 -2.409477  2.432188  2.626045 -5.357677   \n",
              "1        1.563059 -2.624202 -2.447165 -0.847906 -0.556265 -5.642339   \n",
              "2        0.778694 -2.867568 -1.410018 -4.091225 -0.264509 -4.581916   \n",
              "3        0.723852 -3.471605  0.430807 -1.961157  0.794714 -5.244651   \n",
              "4        1.684005 -3.648304  0.979481  0.813405  0.241067 -9.047267   \n",
              "...           ...       ...       ...       ...       ...       ...   \n",
              "2399995 -5.110501  1.847044  1.226041  0.213713 -2.404016  9.389438   \n",
              "2399996 -5.603580  2.402435  1.399429 -5.911024 -4.066266  2.045661   \n",
              "2399997 -7.102355  2.189799  2.989288  1.308875 -4.923211 -2.225450   \n",
              "2399998 -7.564308  2.180457  4.849446  2.338509 -4.773525 -2.835677   \n",
              "2399999 -6.999508  2.517673  5.729479 -5.937498 -3.312602 -2.479133   \n",
              "\n",
              "               AN9      AN10  \n",
              "0        20.829383 -2.788547  \n",
              "1        13.645422 -7.001352  \n",
              "2         4.803605 -9.201859  \n",
              "3        -3.429302 -7.974679  \n",
              "4        -9.229768 -5.387307  \n",
              "...            ...       ...  \n",
              "2399995  -3.040840  4.030373  \n",
              "2399996  -2.116951  1.751308  \n",
              "2399997  -0.887806 -1.598704  \n",
              "2399998  -2.654471 -3.491960  \n",
              "2399999  -8.179592 -3.954556  \n",
              "\n",
              "[2400000 rows x 8 columns]"
            ],
            "text/html": [
              "\n",
              "  <div id=\"df-1e8a60df-d7a1-4356-aa89-816c45536abd\">\n",
              "    <div class=\"colab-df-container\">\n",
              "      <div>\n",
              "<style scoped>\n",
              "    .dataframe tbody tr th:only-of-type {\n",
              "        vertical-align: middle;\n",
              "    }\n",
              "\n",
              "    .dataframe tbody tr th {\n",
              "        vertical-align: top;\n",
              "    }\n",
              "\n",
              "    .dataframe thead th {\n",
              "        text-align: right;\n",
              "    }\n",
              "</style>\n",
              "<table border=\"1\" class=\"dataframe\">\n",
              "  <thead>\n",
              "    <tr style=\"text-align: right;\">\n",
              "      <th></th>\n",
              "      <th>AN3</th>\n",
              "      <th>AN4</th>\n",
              "      <th>AN5</th>\n",
              "      <th>AN6</th>\n",
              "      <th>AN7</th>\n",
              "      <th>AN8</th>\n",
              "      <th>AN9</th>\n",
              "      <th>AN10</th>\n",
              "    </tr>\n",
              "  </thead>\n",
              "  <tbody>\n",
              "    <tr>\n",
              "      <th>0</th>\n",
              "      <td>2.545462</td>\n",
              "      <td>-2.361234</td>\n",
              "      <td>-2.409477</td>\n",
              "      <td>2.432188</td>\n",
              "      <td>2.626045</td>\n",
              "      <td>-5.357677</td>\n",
              "      <td>20.829383</td>\n",
              "      <td>-2.788547</td>\n",
              "    </tr>\n",
              "    <tr>\n",
              "      <th>1</th>\n",
              "      <td>1.563059</td>\n",
              "      <td>-2.624202</td>\n",
              "      <td>-2.447165</td>\n",
              "      <td>-0.847906</td>\n",
              "      <td>-0.556265</td>\n",
              "      <td>-5.642339</td>\n",
              "      <td>13.645422</td>\n",
              "      <td>-7.001352</td>\n",
              "    </tr>\n",
              "    <tr>\n",
              "      <th>2</th>\n",
              "      <td>0.778694</td>\n",
              "      <td>-2.867568</td>\n",
              "      <td>-1.410018</td>\n",
              "      <td>-4.091225</td>\n",
              "      <td>-0.264509</td>\n",
              "      <td>-4.581916</td>\n",
              "      <td>4.803605</td>\n",
              "      <td>-9.201859</td>\n",
              "    </tr>\n",
              "    <tr>\n",
              "      <th>3</th>\n",
              "      <td>0.723852</td>\n",
              "      <td>-3.471605</td>\n",
              "      <td>0.430807</td>\n",
              "      <td>-1.961157</td>\n",
              "      <td>0.794714</td>\n",
              "      <td>-5.244651</td>\n",
              "      <td>-3.429302</td>\n",
              "      <td>-7.974679</td>\n",
              "    </tr>\n",
              "    <tr>\n",
              "      <th>4</th>\n",
              "      <td>1.684005</td>\n",
              "      <td>-3.648304</td>\n",
              "      <td>0.979481</td>\n",
              "      <td>0.813405</td>\n",
              "      <td>0.241067</td>\n",
              "      <td>-9.047267</td>\n",
              "      <td>-9.229768</td>\n",
              "      <td>-5.387307</td>\n",
              "    </tr>\n",
              "    <tr>\n",
              "      <th>...</th>\n",
              "      <td>...</td>\n",
              "      <td>...</td>\n",
              "      <td>...</td>\n",
              "      <td>...</td>\n",
              "      <td>...</td>\n",
              "      <td>...</td>\n",
              "      <td>...</td>\n",
              "      <td>...</td>\n",
              "    </tr>\n",
              "    <tr>\n",
              "      <th>2399995</th>\n",
              "      <td>-5.110501</td>\n",
              "      <td>1.847044</td>\n",
              "      <td>1.226041</td>\n",
              "      <td>0.213713</td>\n",
              "      <td>-2.404016</td>\n",
              "      <td>9.389438</td>\n",
              "      <td>-3.040840</td>\n",
              "      <td>4.030373</td>\n",
              "    </tr>\n",
              "    <tr>\n",
              "      <th>2399996</th>\n",
              "      <td>-5.603580</td>\n",
              "      <td>2.402435</td>\n",
              "      <td>1.399429</td>\n",
              "      <td>-5.911024</td>\n",
              "      <td>-4.066266</td>\n",
              "      <td>2.045661</td>\n",
              "      <td>-2.116951</td>\n",
              "      <td>1.751308</td>\n",
              "    </tr>\n",
              "    <tr>\n",
              "      <th>2399997</th>\n",
              "      <td>-7.102355</td>\n",
              "      <td>2.189799</td>\n",
              "      <td>2.989288</td>\n",
              "      <td>1.308875</td>\n",
              "      <td>-4.923211</td>\n",
              "      <td>-2.225450</td>\n",
              "      <td>-0.887806</td>\n",
              "      <td>-1.598704</td>\n",
              "    </tr>\n",
              "    <tr>\n",
              "      <th>2399998</th>\n",
              "      <td>-7.564308</td>\n",
              "      <td>2.180457</td>\n",
              "      <td>4.849446</td>\n",
              "      <td>2.338509</td>\n",
              "      <td>-4.773525</td>\n",
              "      <td>-2.835677</td>\n",
              "      <td>-2.654471</td>\n",
              "      <td>-3.491960</td>\n",
              "    </tr>\n",
              "    <tr>\n",
              "      <th>2399999</th>\n",
              "      <td>-6.999508</td>\n",
              "      <td>2.517673</td>\n",
              "      <td>5.729479</td>\n",
              "      <td>-5.937498</td>\n",
              "      <td>-3.312602</td>\n",
              "      <td>-2.479133</td>\n",
              "      <td>-8.179592</td>\n",
              "      <td>-3.954556</td>\n",
              "    </tr>\n",
              "  </tbody>\n",
              "</table>\n",
              "<p>2400000 rows × 8 columns</p>\n",
              "</div>\n",
              "      <button class=\"colab-df-convert\" onclick=\"convertToInteractive('df-1e8a60df-d7a1-4356-aa89-816c45536abd')\"\n",
              "              title=\"Convert this dataframe to an interactive table.\"\n",
              "              style=\"display:none;\">\n",
              "        \n",
              "  <svg xmlns=\"http://www.w3.org/2000/svg\" height=\"24px\"viewBox=\"0 0 24 24\"\n",
              "       width=\"24px\">\n",
              "    <path d=\"M0 0h24v24H0V0z\" fill=\"none\"/>\n",
              "    <path d=\"M18.56 5.44l.94 2.06.94-2.06 2.06-.94-2.06-.94-.94-2.06-.94 2.06-2.06.94zm-11 1L8.5 8.5l.94-2.06 2.06-.94-2.06-.94L8.5 2.5l-.94 2.06-2.06.94zm10 10l.94 2.06.94-2.06 2.06-.94-2.06-.94-.94-2.06-.94 2.06-2.06.94z\"/><path d=\"M17.41 7.96l-1.37-1.37c-.4-.4-.92-.59-1.43-.59-.52 0-1.04.2-1.43.59L10.3 9.45l-7.72 7.72c-.78.78-.78 2.05 0 2.83L4 21.41c.39.39.9.59 1.41.59.51 0 1.02-.2 1.41-.59l7.78-7.78 2.81-2.81c.8-.78.8-2.07 0-2.86zM5.41 20L4 18.59l7.72-7.72 1.47 1.35L5.41 20z\"/>\n",
              "  </svg>\n",
              "      </button>\n",
              "      \n",
              "  <style>\n",
              "    .colab-df-container {\n",
              "      display:flex;\n",
              "      flex-wrap:wrap;\n",
              "      gap: 12px;\n",
              "    }\n",
              "\n",
              "    .colab-df-convert {\n",
              "      background-color: #E8F0FE;\n",
              "      border: none;\n",
              "      border-radius: 50%;\n",
              "      cursor: pointer;\n",
              "      display: none;\n",
              "      fill: #1967D2;\n",
              "      height: 32px;\n",
              "      padding: 0 0 0 0;\n",
              "      width: 32px;\n",
              "    }\n",
              "\n",
              "    .colab-df-convert:hover {\n",
              "      background-color: #E2EBFA;\n",
              "      box-shadow: 0px 1px 2px rgba(60, 64, 67, 0.3), 0px 1px 3px 1px rgba(60, 64, 67, 0.15);\n",
              "      fill: #174EA6;\n",
              "    }\n",
              "\n",
              "    [theme=dark] .colab-df-convert {\n",
              "      background-color: #3B4455;\n",
              "      fill: #D2E3FC;\n",
              "    }\n",
              "\n",
              "    [theme=dark] .colab-df-convert:hover {\n",
              "      background-color: #434B5C;\n",
              "      box-shadow: 0px 1px 3px 1px rgba(0, 0, 0, 0.15);\n",
              "      filter: drop-shadow(0px 1px 2px rgba(0, 0, 0, 0.3));\n",
              "      fill: #FFFFFF;\n",
              "    }\n",
              "  </style>\n",
              "\n",
              "      <script>\n",
              "        const buttonEl =\n",
              "          document.querySelector('#df-1e8a60df-d7a1-4356-aa89-816c45536abd button.colab-df-convert');\n",
              "        buttonEl.style.display =\n",
              "          google.colab.kernel.accessAllowed ? 'block' : 'none';\n",
              "\n",
              "        async function convertToInteractive(key) {\n",
              "          const element = document.querySelector('#df-1e8a60df-d7a1-4356-aa89-816c45536abd');\n",
              "          const dataTable =\n",
              "            await google.colab.kernel.invokeFunction('convertToInteractive',\n",
              "                                                     [key], {});\n",
              "          if (!dataTable) return;\n",
              "\n",
              "          const docLinkHtml = 'Like what you see? Visit the ' +\n",
              "            '<a target=\"_blank\" href=https://colab.research.google.com/notebooks/data_table.ipynb>data table notebook</a>'\n",
              "            + ' to learn more about interactive tables.';\n",
              "          element.innerHTML = '';\n",
              "          dataTable['output_type'] = 'display_data';\n",
              "          await google.colab.output.renderOutput(dataTable, element);\n",
              "          const docLink = document.createElement('div');\n",
              "          docLink.innerHTML = docLinkHtml;\n",
              "          element.appendChild(docLink);\n",
              "        }\n",
              "      </script>\n",
              "    </div>\n",
              "  </div>\n",
              "  "
            ]
          },
          "metadata": {},
          "execution_count": 6
        }
      ]
    },
    {
      "cell_type": "code",
      "source": [
        "Damaged_sample =Damaged.sample(n=10000)"
      ],
      "metadata": {
        "id": "VT53mYNuWhQ6"
      },
      "execution_count": null,
      "outputs": []
    },
    {
      "cell_type": "code",
      "source": [
        "Damaged_sample"
      ],
      "metadata": {
        "colab": {
          "base_uri": "https://localhost:8080/",
          "height": 423
        },
        "id": "2Amz004FW__S",
        "outputId": "3308ea98-e785-46c2-ba99-faa20bfbf006"
      },
      "execution_count": null,
      "outputs": [
        {
          "output_type": "execute_result",
          "data": {
            "text/plain": [
              "              AN3       AN4        AN5       AN6        AN7        AN8  \\\n",
              "1845908 -1.626983 -0.442025  -0.473698 -3.434270   8.562669  -5.883822   \n",
              "2086463  2.494772 -4.095092  -2.065638 -5.510789   3.266077 -13.046755   \n",
              "2034616  0.098989 -6.293247   2.518803 -2.660038   5.005550   0.070856   \n",
              "352594  -0.827353  1.800924  -5.168755 -2.287717   4.002845   3.459399   \n",
              "579756   0.536132  4.417867  -3.701138  4.155912  -0.729034  -1.834459   \n",
              "...           ...       ...        ...       ...        ...        ...   \n",
              "1663471 -0.356898 -0.513108  11.561652  6.033452  -1.626316   9.644795   \n",
              "1610963  5.120164  0.045371   2.557470  4.435992  -1.293271   2.359985   \n",
              "36767    4.725905 -0.907930  -5.482004  1.351282  -5.768615   1.521311   \n",
              "34554   -0.598067  0.834121   1.430387  3.575388   0.692028   2.405914   \n",
              "1620693 -0.448160 -0.646723  -3.382994  5.612734 -10.071189   8.704338   \n",
              "\n",
              "               AN9      AN10  \n",
              "1845908   5.935511  2.220324  \n",
              "2086463   2.229367 -1.060082  \n",
              "2034616   9.704798 -5.325916  \n",
              "352594   10.195791 -1.986209  \n",
              "579756    3.839096  9.913869  \n",
              "...            ...       ...  \n",
              "1663471  -0.787983 -6.450679  \n",
              "1610963  -1.591862  0.730856  \n",
              "36767     5.465688  1.132283  \n",
              "34554    -0.936795 -1.126072  \n",
              "1620693 -23.619969 -2.815012  \n",
              "\n",
              "[10000 rows x 8 columns]"
            ],
            "text/html": [
              "\n",
              "  <div id=\"df-dadf63f9-0773-4a9c-bc5a-f3ff62534c41\">\n",
              "    <div class=\"colab-df-container\">\n",
              "      <div>\n",
              "<style scoped>\n",
              "    .dataframe tbody tr th:only-of-type {\n",
              "        vertical-align: middle;\n",
              "    }\n",
              "\n",
              "    .dataframe tbody tr th {\n",
              "        vertical-align: top;\n",
              "    }\n",
              "\n",
              "    .dataframe thead th {\n",
              "        text-align: right;\n",
              "    }\n",
              "</style>\n",
              "<table border=\"1\" class=\"dataframe\">\n",
              "  <thead>\n",
              "    <tr style=\"text-align: right;\">\n",
              "      <th></th>\n",
              "      <th>AN3</th>\n",
              "      <th>AN4</th>\n",
              "      <th>AN5</th>\n",
              "      <th>AN6</th>\n",
              "      <th>AN7</th>\n",
              "      <th>AN8</th>\n",
              "      <th>AN9</th>\n",
              "      <th>AN10</th>\n",
              "    </tr>\n",
              "  </thead>\n",
              "  <tbody>\n",
              "    <tr>\n",
              "      <th>1845908</th>\n",
              "      <td>-1.626983</td>\n",
              "      <td>-0.442025</td>\n",
              "      <td>-0.473698</td>\n",
              "      <td>-3.434270</td>\n",
              "      <td>8.562669</td>\n",
              "      <td>-5.883822</td>\n",
              "      <td>5.935511</td>\n",
              "      <td>2.220324</td>\n",
              "    </tr>\n",
              "    <tr>\n",
              "      <th>2086463</th>\n",
              "      <td>2.494772</td>\n",
              "      <td>-4.095092</td>\n",
              "      <td>-2.065638</td>\n",
              "      <td>-5.510789</td>\n",
              "      <td>3.266077</td>\n",
              "      <td>-13.046755</td>\n",
              "      <td>2.229367</td>\n",
              "      <td>-1.060082</td>\n",
              "    </tr>\n",
              "    <tr>\n",
              "      <th>2034616</th>\n",
              "      <td>0.098989</td>\n",
              "      <td>-6.293247</td>\n",
              "      <td>2.518803</td>\n",
              "      <td>-2.660038</td>\n",
              "      <td>5.005550</td>\n",
              "      <td>0.070856</td>\n",
              "      <td>9.704798</td>\n",
              "      <td>-5.325916</td>\n",
              "    </tr>\n",
              "    <tr>\n",
              "      <th>352594</th>\n",
              "      <td>-0.827353</td>\n",
              "      <td>1.800924</td>\n",
              "      <td>-5.168755</td>\n",
              "      <td>-2.287717</td>\n",
              "      <td>4.002845</td>\n",
              "      <td>3.459399</td>\n",
              "      <td>10.195791</td>\n",
              "      <td>-1.986209</td>\n",
              "    </tr>\n",
              "    <tr>\n",
              "      <th>579756</th>\n",
              "      <td>0.536132</td>\n",
              "      <td>4.417867</td>\n",
              "      <td>-3.701138</td>\n",
              "      <td>4.155912</td>\n",
              "      <td>-0.729034</td>\n",
              "      <td>-1.834459</td>\n",
              "      <td>3.839096</td>\n",
              "      <td>9.913869</td>\n",
              "    </tr>\n",
              "    <tr>\n",
              "      <th>...</th>\n",
              "      <td>...</td>\n",
              "      <td>...</td>\n",
              "      <td>...</td>\n",
              "      <td>...</td>\n",
              "      <td>...</td>\n",
              "      <td>...</td>\n",
              "      <td>...</td>\n",
              "      <td>...</td>\n",
              "    </tr>\n",
              "    <tr>\n",
              "      <th>1663471</th>\n",
              "      <td>-0.356898</td>\n",
              "      <td>-0.513108</td>\n",
              "      <td>11.561652</td>\n",
              "      <td>6.033452</td>\n",
              "      <td>-1.626316</td>\n",
              "      <td>9.644795</td>\n",
              "      <td>-0.787983</td>\n",
              "      <td>-6.450679</td>\n",
              "    </tr>\n",
              "    <tr>\n",
              "      <th>1610963</th>\n",
              "      <td>5.120164</td>\n",
              "      <td>0.045371</td>\n",
              "      <td>2.557470</td>\n",
              "      <td>4.435992</td>\n",
              "      <td>-1.293271</td>\n",
              "      <td>2.359985</td>\n",
              "      <td>-1.591862</td>\n",
              "      <td>0.730856</td>\n",
              "    </tr>\n",
              "    <tr>\n",
              "      <th>36767</th>\n",
              "      <td>4.725905</td>\n",
              "      <td>-0.907930</td>\n",
              "      <td>-5.482004</td>\n",
              "      <td>1.351282</td>\n",
              "      <td>-5.768615</td>\n",
              "      <td>1.521311</td>\n",
              "      <td>5.465688</td>\n",
              "      <td>1.132283</td>\n",
              "    </tr>\n",
              "    <tr>\n",
              "      <th>34554</th>\n",
              "      <td>-0.598067</td>\n",
              "      <td>0.834121</td>\n",
              "      <td>1.430387</td>\n",
              "      <td>3.575388</td>\n",
              "      <td>0.692028</td>\n",
              "      <td>2.405914</td>\n",
              "      <td>-0.936795</td>\n",
              "      <td>-1.126072</td>\n",
              "    </tr>\n",
              "    <tr>\n",
              "      <th>1620693</th>\n",
              "      <td>-0.448160</td>\n",
              "      <td>-0.646723</td>\n",
              "      <td>-3.382994</td>\n",
              "      <td>5.612734</td>\n",
              "      <td>-10.071189</td>\n",
              "      <td>8.704338</td>\n",
              "      <td>-23.619969</td>\n",
              "      <td>-2.815012</td>\n",
              "    </tr>\n",
              "  </tbody>\n",
              "</table>\n",
              "<p>10000 rows × 8 columns</p>\n",
              "</div>\n",
              "      <button class=\"colab-df-convert\" onclick=\"convertToInteractive('df-dadf63f9-0773-4a9c-bc5a-f3ff62534c41')\"\n",
              "              title=\"Convert this dataframe to an interactive table.\"\n",
              "              style=\"display:none;\">\n",
              "        \n",
              "  <svg xmlns=\"http://www.w3.org/2000/svg\" height=\"24px\"viewBox=\"0 0 24 24\"\n",
              "       width=\"24px\">\n",
              "    <path d=\"M0 0h24v24H0V0z\" fill=\"none\"/>\n",
              "    <path d=\"M18.56 5.44l.94 2.06.94-2.06 2.06-.94-2.06-.94-.94-2.06-.94 2.06-2.06.94zm-11 1L8.5 8.5l.94-2.06 2.06-.94-2.06-.94L8.5 2.5l-.94 2.06-2.06.94zm10 10l.94 2.06.94-2.06 2.06-.94-2.06-.94-.94-2.06-.94 2.06-2.06.94z\"/><path d=\"M17.41 7.96l-1.37-1.37c-.4-.4-.92-.59-1.43-.59-.52 0-1.04.2-1.43.59L10.3 9.45l-7.72 7.72c-.78.78-.78 2.05 0 2.83L4 21.41c.39.39.9.59 1.41.59.51 0 1.02-.2 1.41-.59l7.78-7.78 2.81-2.81c.8-.78.8-2.07 0-2.86zM5.41 20L4 18.59l7.72-7.72 1.47 1.35L5.41 20z\"/>\n",
              "  </svg>\n",
              "      </button>\n",
              "      \n",
              "  <style>\n",
              "    .colab-df-container {\n",
              "      display:flex;\n",
              "      flex-wrap:wrap;\n",
              "      gap: 12px;\n",
              "    }\n",
              "\n",
              "    .colab-df-convert {\n",
              "      background-color: #E8F0FE;\n",
              "      border: none;\n",
              "      border-radius: 50%;\n",
              "      cursor: pointer;\n",
              "      display: none;\n",
              "      fill: #1967D2;\n",
              "      height: 32px;\n",
              "      padding: 0 0 0 0;\n",
              "      width: 32px;\n",
              "    }\n",
              "\n",
              "    .colab-df-convert:hover {\n",
              "      background-color: #E2EBFA;\n",
              "      box-shadow: 0px 1px 2px rgba(60, 64, 67, 0.3), 0px 1px 3px 1px rgba(60, 64, 67, 0.15);\n",
              "      fill: #174EA6;\n",
              "    }\n",
              "\n",
              "    [theme=dark] .colab-df-convert {\n",
              "      background-color: #3B4455;\n",
              "      fill: #D2E3FC;\n",
              "    }\n",
              "\n",
              "    [theme=dark] .colab-df-convert:hover {\n",
              "      background-color: #434B5C;\n",
              "      box-shadow: 0px 1px 3px 1px rgba(0, 0, 0, 0.15);\n",
              "      filter: drop-shadow(0px 1px 2px rgba(0, 0, 0, 0.3));\n",
              "      fill: #FFFFFF;\n",
              "    }\n",
              "  </style>\n",
              "\n",
              "      <script>\n",
              "        const buttonEl =\n",
              "          document.querySelector('#df-dadf63f9-0773-4a9c-bc5a-f3ff62534c41 button.colab-df-convert');\n",
              "        buttonEl.style.display =\n",
              "          google.colab.kernel.accessAllowed ? 'block' : 'none';\n",
              "\n",
              "        async function convertToInteractive(key) {\n",
              "          const element = document.querySelector('#df-dadf63f9-0773-4a9c-bc5a-f3ff62534c41');\n",
              "          const dataTable =\n",
              "            await google.colab.kernel.invokeFunction('convertToInteractive',\n",
              "                                                     [key], {});\n",
              "          if (!dataTable) return;\n",
              "\n",
              "          const docLinkHtml = 'Like what you see? Visit the ' +\n",
              "            '<a target=\"_blank\" href=https://colab.research.google.com/notebooks/data_table.ipynb>data table notebook</a>'\n",
              "            + ' to learn more about interactive tables.';\n",
              "          element.innerHTML = '';\n",
              "          dataTable['output_type'] = 'display_data';\n",
              "          await google.colab.output.renderOutput(dataTable, element);\n",
              "          const docLink = document.createElement('div');\n",
              "          docLink.innerHTML = docLinkHtml;\n",
              "          element.appendChild(docLink);\n",
              "        }\n",
              "      </script>\n",
              "    </div>\n",
              "  </div>\n",
              "  "
            ]
          },
          "metadata": {},
          "execution_count": 10
        }
      ]
    },
    {
      "cell_type": "code",
      "source": [
        "Damaged_sample.to_csv('Damaged_Sample.csv', index=False)"
      ],
      "metadata": {
        "id": "LDEytXnpXDtI"
      },
      "execution_count": null,
      "outputs": []
    },
    {
      "cell_type": "code",
      "source": [
        "Healthy = pd.DataFrame()\n",
        "Healthy['AN3'] = pd.DataFrame(H1['AN3'])\n",
        "Healthy['AN4'] = pd.DataFrame(H1['AN4'])\n",
        "Healthy['AN5'] = pd.DataFrame(H1['AN5'])\n",
        "Healthy['AN6'] = pd.DataFrame(H1['AN6'])\n",
        "Healthy['AN7'] = pd.DataFrame(H1['AN7'])\n",
        "Healthy['AN8'] = pd.DataFrame(H1['AN8'])\n",
        "Healthy['AN9'] = pd.DataFrame(H1['AN9'])\n",
        "Healthy['AN10'] = pd.DataFrame(H1['AN10'])\n",
        "# Healthy['Speed'] = pd.DataFrame(H1['Speed'])\n",
        "# Healthy['Value'] = [1 for i in range(2400000)]"
      ],
      "metadata": {
        "id": "dC_aI7MMrPr_"
      },
      "execution_count": null,
      "outputs": []
    },
    {
      "cell_type": "code",
      "source": [
        "Healthy"
      ],
      "metadata": {
        "colab": {
          "base_uri": "https://localhost:8080/",
          "height": 423
        },
        "id": "c4G3gKdd-YFb",
        "outputId": "b47f3b34-5b30-4677-8e05-b57e01953e78"
      },
      "execution_count": null,
      "outputs": [
        {
          "output_type": "execute_result",
          "data": {
            "text/plain": [
              "              AN3       AN4       AN5       AN6       AN7       AN8       AN9  \\\n",
              "0       -0.823841  0.749480 -2.316878 -1.960000  4.391394 -3.048822 -2.294245   \n",
              "1       -1.402680  0.977488 -2.939493 -1.525210  3.927973 -3.260050 -2.718662   \n",
              "2       -2.122453 -0.224492 -3.292221  2.777935 -0.730244 -1.523624 -3.092139   \n",
              "3       -2.693342  0.305910 -3.057404  2.147219 -0.410198 -2.144959 -3.407326   \n",
              "4       -2.670948  1.539633 -2.402231  0.788547 -1.330330 -2.612996 -3.614957   \n",
              "...           ...       ...       ...       ...       ...       ...       ...   \n",
              "2399995  1.303390  1.138563  0.220599 -3.384101  3.385444  5.628089 -0.175509   \n",
              "2399996  0.966771 -0.481854 -0.570587 -1.536579  1.614609  6.111915 -0.009663   \n",
              "2399997  1.044473 -1.196053 -0.859204 -2.914359 -0.237012  7.800978  0.117753   \n",
              "2399998  0.772903 -1.883381 -2.034796 -1.228658  1.876840  9.105907  0.209317   \n",
              "2399999  0.161733 -2.757448 -2.392174 -1.706261 -0.654749  9.055233  0.254712   \n",
              "\n",
              "             AN10  \n",
              "0       -0.485538  \n",
              "1        0.146392  \n",
              "2        0.415281  \n",
              "3       -0.016563  \n",
              "4        0.060899  \n",
              "...           ...  \n",
              "2399995 -1.149117  \n",
              "2399996 -2.119016  \n",
              "2399997 -1.307043  \n",
              "2399998 -0.788805  \n",
              "2399999 -1.665429  \n",
              "\n",
              "[2400000 rows x 8 columns]"
            ],
            "text/html": [
              "\n",
              "  <div id=\"df-1e8e82b3-8dc2-44e6-a5d3-05986c0e26d8\">\n",
              "    <div class=\"colab-df-container\">\n",
              "      <div>\n",
              "<style scoped>\n",
              "    .dataframe tbody tr th:only-of-type {\n",
              "        vertical-align: middle;\n",
              "    }\n",
              "\n",
              "    .dataframe tbody tr th {\n",
              "        vertical-align: top;\n",
              "    }\n",
              "\n",
              "    .dataframe thead th {\n",
              "        text-align: right;\n",
              "    }\n",
              "</style>\n",
              "<table border=\"1\" class=\"dataframe\">\n",
              "  <thead>\n",
              "    <tr style=\"text-align: right;\">\n",
              "      <th></th>\n",
              "      <th>AN3</th>\n",
              "      <th>AN4</th>\n",
              "      <th>AN5</th>\n",
              "      <th>AN6</th>\n",
              "      <th>AN7</th>\n",
              "      <th>AN8</th>\n",
              "      <th>AN9</th>\n",
              "      <th>AN10</th>\n",
              "    </tr>\n",
              "  </thead>\n",
              "  <tbody>\n",
              "    <tr>\n",
              "      <th>0</th>\n",
              "      <td>-0.823841</td>\n",
              "      <td>0.749480</td>\n",
              "      <td>-2.316878</td>\n",
              "      <td>-1.960000</td>\n",
              "      <td>4.391394</td>\n",
              "      <td>-3.048822</td>\n",
              "      <td>-2.294245</td>\n",
              "      <td>-0.485538</td>\n",
              "    </tr>\n",
              "    <tr>\n",
              "      <th>1</th>\n",
              "      <td>-1.402680</td>\n",
              "      <td>0.977488</td>\n",
              "      <td>-2.939493</td>\n",
              "      <td>-1.525210</td>\n",
              "      <td>3.927973</td>\n",
              "      <td>-3.260050</td>\n",
              "      <td>-2.718662</td>\n",
              "      <td>0.146392</td>\n",
              "    </tr>\n",
              "    <tr>\n",
              "      <th>2</th>\n",
              "      <td>-2.122453</td>\n",
              "      <td>-0.224492</td>\n",
              "      <td>-3.292221</td>\n",
              "      <td>2.777935</td>\n",
              "      <td>-0.730244</td>\n",
              "      <td>-1.523624</td>\n",
              "      <td>-3.092139</td>\n",
              "      <td>0.415281</td>\n",
              "    </tr>\n",
              "    <tr>\n",
              "      <th>3</th>\n",
              "      <td>-2.693342</td>\n",
              "      <td>0.305910</td>\n",
              "      <td>-3.057404</td>\n",
              "      <td>2.147219</td>\n",
              "      <td>-0.410198</td>\n",
              "      <td>-2.144959</td>\n",
              "      <td>-3.407326</td>\n",
              "      <td>-0.016563</td>\n",
              "    </tr>\n",
              "    <tr>\n",
              "      <th>4</th>\n",
              "      <td>-2.670948</td>\n",
              "      <td>1.539633</td>\n",
              "      <td>-2.402231</td>\n",
              "      <td>0.788547</td>\n",
              "      <td>-1.330330</td>\n",
              "      <td>-2.612996</td>\n",
              "      <td>-3.614957</td>\n",
              "      <td>0.060899</td>\n",
              "    </tr>\n",
              "    <tr>\n",
              "      <th>...</th>\n",
              "      <td>...</td>\n",
              "      <td>...</td>\n",
              "      <td>...</td>\n",
              "      <td>...</td>\n",
              "      <td>...</td>\n",
              "      <td>...</td>\n",
              "      <td>...</td>\n",
              "      <td>...</td>\n",
              "    </tr>\n",
              "    <tr>\n",
              "      <th>2399995</th>\n",
              "      <td>1.303390</td>\n",
              "      <td>1.138563</td>\n",
              "      <td>0.220599</td>\n",
              "      <td>-3.384101</td>\n",
              "      <td>3.385444</td>\n",
              "      <td>5.628089</td>\n",
              "      <td>-0.175509</td>\n",
              "      <td>-1.149117</td>\n",
              "    </tr>\n",
              "    <tr>\n",
              "      <th>2399996</th>\n",
              "      <td>0.966771</td>\n",
              "      <td>-0.481854</td>\n",
              "      <td>-0.570587</td>\n",
              "      <td>-1.536579</td>\n",
              "      <td>1.614609</td>\n",
              "      <td>6.111915</td>\n",
              "      <td>-0.009663</td>\n",
              "      <td>-2.119016</td>\n",
              "    </tr>\n",
              "    <tr>\n",
              "      <th>2399997</th>\n",
              "      <td>1.044473</td>\n",
              "      <td>-1.196053</td>\n",
              "      <td>-0.859204</td>\n",
              "      <td>-2.914359</td>\n",
              "      <td>-0.237012</td>\n",
              "      <td>7.800978</td>\n",
              "      <td>0.117753</td>\n",
              "      <td>-1.307043</td>\n",
              "    </tr>\n",
              "    <tr>\n",
              "      <th>2399998</th>\n",
              "      <td>0.772903</td>\n",
              "      <td>-1.883381</td>\n",
              "      <td>-2.034796</td>\n",
              "      <td>-1.228658</td>\n",
              "      <td>1.876840</td>\n",
              "      <td>9.105907</td>\n",
              "      <td>0.209317</td>\n",
              "      <td>-0.788805</td>\n",
              "    </tr>\n",
              "    <tr>\n",
              "      <th>2399999</th>\n",
              "      <td>0.161733</td>\n",
              "      <td>-2.757448</td>\n",
              "      <td>-2.392174</td>\n",
              "      <td>-1.706261</td>\n",
              "      <td>-0.654749</td>\n",
              "      <td>9.055233</td>\n",
              "      <td>0.254712</td>\n",
              "      <td>-1.665429</td>\n",
              "    </tr>\n",
              "  </tbody>\n",
              "</table>\n",
              "<p>2400000 rows × 8 columns</p>\n",
              "</div>\n",
              "      <button class=\"colab-df-convert\" onclick=\"convertToInteractive('df-1e8e82b3-8dc2-44e6-a5d3-05986c0e26d8')\"\n",
              "              title=\"Convert this dataframe to an interactive table.\"\n",
              "              style=\"display:none;\">\n",
              "        \n",
              "  <svg xmlns=\"http://www.w3.org/2000/svg\" height=\"24px\"viewBox=\"0 0 24 24\"\n",
              "       width=\"24px\">\n",
              "    <path d=\"M0 0h24v24H0V0z\" fill=\"none\"/>\n",
              "    <path d=\"M18.56 5.44l.94 2.06.94-2.06 2.06-.94-2.06-.94-.94-2.06-.94 2.06-2.06.94zm-11 1L8.5 8.5l.94-2.06 2.06-.94-2.06-.94L8.5 2.5l-.94 2.06-2.06.94zm10 10l.94 2.06.94-2.06 2.06-.94-2.06-.94-.94-2.06-.94 2.06-2.06.94z\"/><path d=\"M17.41 7.96l-1.37-1.37c-.4-.4-.92-.59-1.43-.59-.52 0-1.04.2-1.43.59L10.3 9.45l-7.72 7.72c-.78.78-.78 2.05 0 2.83L4 21.41c.39.39.9.59 1.41.59.51 0 1.02-.2 1.41-.59l7.78-7.78 2.81-2.81c.8-.78.8-2.07 0-2.86zM5.41 20L4 18.59l7.72-7.72 1.47 1.35L5.41 20z\"/>\n",
              "  </svg>\n",
              "      </button>\n",
              "      \n",
              "  <style>\n",
              "    .colab-df-container {\n",
              "      display:flex;\n",
              "      flex-wrap:wrap;\n",
              "      gap: 12px;\n",
              "    }\n",
              "\n",
              "    .colab-df-convert {\n",
              "      background-color: #E8F0FE;\n",
              "      border: none;\n",
              "      border-radius: 50%;\n",
              "      cursor: pointer;\n",
              "      display: none;\n",
              "      fill: #1967D2;\n",
              "      height: 32px;\n",
              "      padding: 0 0 0 0;\n",
              "      width: 32px;\n",
              "    }\n",
              "\n",
              "    .colab-df-convert:hover {\n",
              "      background-color: #E2EBFA;\n",
              "      box-shadow: 0px 1px 2px rgba(60, 64, 67, 0.3), 0px 1px 3px 1px rgba(60, 64, 67, 0.15);\n",
              "      fill: #174EA6;\n",
              "    }\n",
              "\n",
              "    [theme=dark] .colab-df-convert {\n",
              "      background-color: #3B4455;\n",
              "      fill: #D2E3FC;\n",
              "    }\n",
              "\n",
              "    [theme=dark] .colab-df-convert:hover {\n",
              "      background-color: #434B5C;\n",
              "      box-shadow: 0px 1px 3px 1px rgba(0, 0, 0, 0.15);\n",
              "      filter: drop-shadow(0px 1px 2px rgba(0, 0, 0, 0.3));\n",
              "      fill: #FFFFFF;\n",
              "    }\n",
              "  </style>\n",
              "\n",
              "      <script>\n",
              "        const buttonEl =\n",
              "          document.querySelector('#df-1e8e82b3-8dc2-44e6-a5d3-05986c0e26d8 button.colab-df-convert');\n",
              "        buttonEl.style.display =\n",
              "          google.colab.kernel.accessAllowed ? 'block' : 'none';\n",
              "\n",
              "        async function convertToInteractive(key) {\n",
              "          const element = document.querySelector('#df-1e8e82b3-8dc2-44e6-a5d3-05986c0e26d8');\n",
              "          const dataTable =\n",
              "            await google.colab.kernel.invokeFunction('convertToInteractive',\n",
              "                                                     [key], {});\n",
              "          if (!dataTable) return;\n",
              "\n",
              "          const docLinkHtml = 'Like what you see? Visit the ' +\n",
              "            '<a target=\"_blank\" href=https://colab.research.google.com/notebooks/data_table.ipynb>data table notebook</a>'\n",
              "            + ' to learn more about interactive tables.';\n",
              "          element.innerHTML = '';\n",
              "          dataTable['output_type'] = 'display_data';\n",
              "          await google.colab.output.renderOutput(dataTable, element);\n",
              "          const docLink = document.createElement('div');\n",
              "          docLink.innerHTML = docLinkHtml;\n",
              "          element.appendChild(docLink);\n",
              "        }\n",
              "      </script>\n",
              "    </div>\n",
              "  </div>\n",
              "  "
            ]
          },
          "metadata": {},
          "execution_count": 12
        }
      ]
    },
    {
      "cell_type": "code",
      "source": [
        "Healthy_sample =Damaged.sample(n=10000)"
      ],
      "metadata": {
        "id": "SccOa1HzX1dO"
      },
      "execution_count": null,
      "outputs": []
    },
    {
      "cell_type": "code",
      "source": [
        "Healthy_sample.to_csv('Healthy_sample.csv', index=False)"
      ],
      "metadata": {
        "id": "xT9G1O6qX-Zl"
      },
      "execution_count": null,
      "outputs": []
    },
    {
      "cell_type": "code",
      "source": [
        "import pandas as pd\n",
        "import numpy as np\n",
        "from sklearn.decomposition import PCA\n",
        "\n",
        "pca = PCA(n_components=2)\n",
        "\n",
        "df_pca = pca.fit_transform(Damaged)\n",
        "\n",
        "print(pca.explained_variance_ratio_)"
      ],
      "metadata": {
        "id": "nZ-tHwwup2cE",
        "colab": {
          "base_uri": "https://localhost:8080/"
        },
        "outputId": "3d9393ab-ede6-459e-bb48-0dfbfa765aac"
      },
      "execution_count": null,
      "outputs": [
        {
          "output_type": "stream",
          "name": "stdout",
          "text": [
            "[0.31371637 0.29643405]\n"
          ]
        }
      ]
    },
    {
      "cell_type": "code",
      "source": [
        "import pandas as pd\n",
        "import numpy as np\n",
        "from sklearn.decomposition import PCA\n",
        "\n",
        "pca = PCA(n_components=2)\n",
        "\n",
        "df_pca = pca.fit_transform(Healthy)\n",
        "\n",
        "print(pca.explained_variance_ratio_)"
      ],
      "metadata": {
        "colab": {
          "base_uri": "https://localhost:8080/"
        },
        "id": "MeIKc3NauNzg",
        "outputId": "d36edee4-3b29-4e71-b48f-0e5c0316b7c6"
      },
      "execution_count": null,
      "outputs": [
        {
          "output_type": "stream",
          "name": "stdout",
          "text": [
            "[0.45148796 0.18493859]\n"
          ]
        }
      ]
    },
    {
      "cell_type": "code",
      "source": [
        "duplicateRows = Healthy.duplicated()\n",
        "duplicateRows.count"
      ],
      "metadata": {
        "colab": {
          "base_uri": "https://localhost:8080/"
        },
        "id": "fmbgnOrWYWRp",
        "outputId": "814095f5-abf0-4589-a0da-7ad32c76a7a9"
      },
      "execution_count": null,
      "outputs": [
        {
          "output_type": "execute_result",
          "data": {
            "text/plain": [
              "<bound method Series.count of 0          False\n",
              "1          False\n",
              "2          False\n",
              "3          False\n",
              "4          False\n",
              "           ...  \n",
              "2399995    False\n",
              "2399996    False\n",
              "2399997    False\n",
              "2399998    False\n",
              "2399999    False\n",
              "Length: 2400000, dtype: bool>"
            ]
          },
          "metadata": {},
          "execution_count": 17
        }
      ]
    },
    {
      "cell_type": "markdown",
      "source": [
        "##GRPAHS\n"
      ],
      "metadata": {
        "id": "fx0Jsmhslx30"
      }
    },
    {
      "cell_type": "code",
      "source": [
        "sns.lineplot(data=Healthy)"
      ],
      "metadata": {
        "id": "Pz3b3iW_uQ6t",
        "colab": {
          "base_uri": "https://localhost:8080/",
          "height": 348
        },
        "outputId": "093cab39-656e-4bf0-b17b-b2e4982b7c3a"
      },
      "execution_count": null,
      "outputs": [
        {
          "output_type": "execute_result",
          "data": {
            "text/plain": [
              "<matplotlib.axes._subplots.AxesSubplot at 0x7fc86031ac10>"
            ]
          },
          "metadata": {},
          "execution_count": 18
        },
        {
          "output_type": "stream",
          "name": "stderr",
          "text": [
            "/usr/local/lib/python3.8/dist-packages/IPython/core/events.py:88: UserWarning: Creating legend with loc=\"best\" can be slow with large amounts of data.\n",
            "  func(*args, **kwargs)\n",
            "/usr/local/lib/python3.8/dist-packages/IPython/core/pylabtools.py:128: UserWarning: Creating legend with loc=\"best\" can be slow with large amounts of data.\n",
            "  fig.canvas.print_figure(bytes_io, **kw)\n"
          ]
        },
        {
          "output_type": "display_data",
          "data": {
            "text/plain": [
              "<Figure size 432x288 with 1 Axes>"
            ],
            "image/png": "[encoded data removed]"
          },
          "metadata": {
            "needs_background": "light"
          }
        }
      ]
    },
    {
      "cell_type": "code",
      "source": [
        "sns.histplot(data=Healthy)"
      ],
      "metadata": {
        "colab": {
          "base_uri": "https://localhost:8080/",
          "height": 282
        },
        "id": "lx2n7jO6v9Rn",
        "outputId": "4352ae05-6519-46ab-cf15-c452e68daf38"
      },
      "execution_count": null,
      "outputs": [
        {
          "output_type": "execute_result",
          "data": {
            "text/plain": [
              "<matplotlib.axes._subplots.AxesSubplot at 0x7fc856fe1a60>"
            ]
          },
          "metadata": {},
          "execution_count": 19
        },
        {
          "output_type": "display_data",
          "data": {
            "text/plain": [
              "<Figure size 432x288 with 1 Axes>"
            ],
            "image/png": "[encoded data removed]"
          },
          "metadata": {
            "needs_background": "light"
          }
        }
      ]
    },
    {
      "cell_type": "code",
      "source": [
        "sns.boxplot(data=Healthy)"
      ],
      "metadata": {
        "colab": {
          "base_uri": "https://localhost:8080/",
          "height": 282
        },
        "id": "m4vHbad4zBG8",
        "outputId": "4ab465fe-1900-44e5-e5fa-234a91b0cef0"
      },
      "execution_count": null,
      "outputs": [
        {
          "output_type": "execute_result",
          "data": {
            "text/plain": [
              "<matplotlib.axes._subplots.AxesSubplot at 0x7fc852f17c40>"
            ]
          },
          "metadata": {},
          "execution_count": 20
        },
        {
          "output_type": "display_data",
          "data": {
            "text/plain": [
              "<Figure size 432x288 with 1 Axes>"
            ],
            "image/png": "[encoded data removed]"
          },
          "metadata": {
            "needs_background": "light"
          }
        }
      ]
    },
    {
      "cell_type": "code",
      "source": [
        "sns.boxplot(data=Damaged)"
      ],
      "metadata": {
        "colab": {
          "base_uri": "https://localhost:8080/",
          "height": 282
        },
        "id": "QjXA_Q4x0DXm",
        "outputId": "56f126bf-fa35-49fd-8dd6-2ca47c442f42"
      },
      "execution_count": null,
      "outputs": [
        {
          "output_type": "execute_result",
          "data": {
            "text/plain": [
              "<matplotlib.axes._subplots.AxesSubplot at 0x7fc860d95af0>"
            ]
          },
          "metadata": {},
          "execution_count": 11
        },
        {
          "output_type": "display_data",
          "data": {
            "text/plain": [
              "<Figure size 432x288 with 1 Axes>"
            ],
            "image/png": "[encoded data removed]"
          },
          "metadata": {
            "needs_background": "light"
          }
        }
      ]
    },
    {
      "cell_type": "code",
      "source": [
        "sns.histplot(data=Damaged)"
      ],
      "metadata": {
        "colab": {
          "base_uri": "https://localhost:8080/",
          "height": 282
        },
        "id": "9C2eaQic0IVD",
        "outputId": "5bc4fb12-cfc5-47ae-bb16-2c5432b09475"
      },
      "execution_count": null,
      "outputs": [
        {
          "output_type": "execute_result",
          "data": {
            "text/plain": [
              "<matplotlib.axes._subplots.AxesSubplot at 0x7fc85d29aa30>"
            ]
          },
          "metadata": {},
          "execution_count": 21
        },
        {
          "output_type": "display_data",
          "data": {
            "text/plain": [
              "<Figure size 432x288 with 1 Axes>"
            ],
            "image/png": "[encoded data removed]"
          },
          "metadata": {
            "needs_background": "light"
          }
        }
      ]
    },
    {
      "cell_type": "code",
      "source": [
        "sns.lineplot(data=Damaged)"
      ],
      "metadata": {
        "colab": {
          "base_uri": "https://localhost:8080/",
          "height": 348
        },
        "id": "-54eWV6I5uwE",
        "outputId": "09a92c9d-1506-407f-e990-a07d1a0f3ff3"
      },
      "execution_count": null,
      "outputs": [
        {
          "output_type": "execute_result",
          "data": {
            "text/plain": [
              "<matplotlib.axes._subplots.AxesSubplot at 0x7fc839fc9280>"
            ]
          },
          "metadata": {},
          "execution_count": 32
        },
        {
          "output_type": "stream",
          "name": "stderr",
          "text": [
            "/usr/local/lib/python3.8/dist-packages/IPython/core/events.py:88: UserWarning: Creating legend with loc=\"best\" can be slow with large amounts of data.\n",
            "  func(*args, **kwargs)\n",
            "/usr/local/lib/python3.8/dist-packages/IPython/core/pylabtools.py:128: UserWarning: Creating legend with loc=\"best\" can be slow with large amounts of data.\n",
            "  fig.canvas.print_figure(bytes_io, **kw)\n"
          ]
        },
        {
          "output_type": "display_data",
          "data": {
            "text/plain": [
              "<Figure size 432x288 with 1 Axes>"
            ],
            "image/png": "[encoded data removed]"
          },
          "metadata": {
            "needs_background": "light"
          }
        }
      ]
    },
    {
      "cell_type": "code",
      "source": [
        "H=Healthy.describe()\n",
        "H"
      ],
      "metadata": {
        "colab": {
          "base_uri": "https://localhost:8080/",
          "height": 381
        },
        "id": "0ol7gPgc5uq1",
        "outputId": "48015f86-5e50-4917-b7b9-39d03b4ccb95"
      },
      "execution_count": null,
      "outputs": [
        {
          "output_type": "execute_result",
          "data": {
            "text/plain": [
              "                AN3           AN4           AN5           AN6           AN7  \\\n",
              "count  2.400000e+06  2.400000e+06  2.400000e+06  2.400000e+06  2.400000e+06   \n",
              "mean  -3.548204e-03 -2.270035e-03 -9.120902e-02 -2.376961e-01  1.889248e-02   \n",
              "std    1.133665e+00  1.915300e+00  1.714996e+00  2.805042e+00  2.622841e+00   \n",
              "min   -7.840844e+00 -9.193722e+00 -9.034289e+00 -1.421949e+01 -1.383045e+01   \n",
              "25%   -7.751742e-01 -1.324300e+00 -1.250523e+00 -2.130891e+00 -1.739292e+00   \n",
              "50%   -1.213865e-02  4.244571e-02 -9.605065e-02 -2.484165e-01  1.489552e-02   \n",
              "75%    7.591190e-01  1.348263e+00  1.062067e+00  1.644943e+00  1.772567e+00   \n",
              "max    5.500267e+00  8.927255e+00  8.339746e+00  1.383066e+01  1.296540e+01   \n",
              "\n",
              "                AN8           AN9          AN10         Speed  \n",
              "count  2.400000e+06  2.400000e+06  2.400000e+06  2.400000e+06  \n",
              "mean  -8.537850e-02 -3.791085e-01  4.922566e-03  9.217280e-02  \n",
              "std    4.736997e+00  2.129972e+00  1.901185e+00  6.579462e-01  \n",
              "min   -1.972974e+01 -7.741262e+00 -9.871553e+00 -4.316614e-01  \n",
              "25%   -3.434864e+00 -1.844292e+00 -1.280547e+00  6.007124e-04  \n",
              "50%   -6.017724e-02 -3.487066e-01 -2.316849e-02  6.161537e-04  \n",
              "75%    3.272652e+00  1.109867e+00  1.261907e+00  6.328709e-04  \n",
              "max    2.014414e+01  8.095802e+00  1.131551e+01  5.294780e+00  "
            ],
            "text/html": [
              "\n",
              "  <div id=\"df-591229df-bad4-462a-8da2-b212a7725a97\">\n",
              "    <div class=\"colab-df-container\">\n",
              "      <div>\n",
              "<style scoped>\n",
              "    .dataframe tbody tr th:only-of-type {\n",
              "        vertical-align: middle;\n",
              "    }\n",
              "\n",
              "    .dataframe tbody tr th {\n",
              "        vertical-align: top;\n",
              "    }\n",
              "\n",
              "    .dataframe thead th {\n",
              "        text-align: right;\n",
              "    }\n",
              "</style>\n",
              "<table border=\"1\" class=\"dataframe\">\n",
              "  <thead>\n",
              "    <tr style=\"text-align: right;\">\n",
              "      <th></th>\n",
              "      <th>AN3</th>\n",
              "      <th>AN4</th>\n",
              "      <th>AN5</th>\n",
              "      <th>AN6</th>\n",
              "      <th>AN7</th>\n",
              "      <th>AN8</th>\n",
              "      <th>AN9</th>\n",
              "      <th>AN10</th>\n",
              "      <th>Speed</th>\n",
              "    </tr>\n",
              "  </thead>\n",
              "  <tbody>\n",
              "    <tr>\n",
              "      <th>count</th>\n",
              "      <td>2.400000e+06</td>\n",
              "      <td>2.400000e+06</td>\n",
              "      <td>2.400000e+06</td>\n",
              "      <td>2.400000e+06</td>\n",
              "      <td>2.400000e+06</td>\n",
              "      <td>2.400000e+06</td>\n",
              "      <td>2.400000e+06</td>\n",
              "      <td>2.400000e+06</td>\n",
              "      <td>2.400000e+06</td>\n",
              "    </tr>\n",
              "    <tr>\n",
              "      <th>mean</th>\n",
              "      <td>-3.548204e-03</td>\n",
              "      <td>-2.270035e-03</td>\n",
              "      <td>-9.120902e-02</td>\n",
              "      <td>-2.376961e-01</td>\n",
              "      <td>1.889248e-02</td>\n",
              "      <td>-8.537850e-02</td>\n",
              "      <td>-3.791085e-01</td>\n",
              "      <td>4.922566e-03</td>\n",
              "      <td>9.217280e-02</td>\n",
              "    </tr>\n",
              "    <tr>\n",
              "      <th>std</th>\n",
              "      <td>1.133665e+00</td>\n",
              "      <td>1.915300e+00</td>\n",
              "      <td>1.714996e+00</td>\n",
              "      <td>2.805042e+00</td>\n",
              "      <td>2.622841e+00</td>\n",
              "      <td>4.736997e+00</td>\n",
              "      <td>2.129972e+00</td>\n",
              "      <td>1.901185e+00</td>\n",
              "      <td>6.579462e-01</td>\n",
              "    </tr>\n",
              "    <tr>\n",
              "      <th>min</th>\n",
              "      <td>-7.840844e+00</td>\n",
              "      <td>-9.193722e+00</td>\n",
              "      <td>-9.034289e+00</td>\n",
              "      <td>-1.421949e+01</td>\n",
              "      <td>-1.383045e+01</td>\n",
              "      <td>-1.972974e+01</td>\n",
              "      <td>-7.741262e+00</td>\n",
              "      <td>-9.871553e+00</td>\n",
              "      <td>-4.316614e-01</td>\n",
              "    </tr>\n",
              "    <tr>\n",
              "      <th>25%</th>\n",
              "      <td>-7.751742e-01</td>\n",
              "      <td>-1.324300e+00</td>\n",
              "      <td>-1.250523e+00</td>\n",
              "      <td>-2.130891e+00</td>\n",
              "      <td>-1.739292e+00</td>\n",
              "      <td>-3.434864e+00</td>\n",
              "      <td>-1.844292e+00</td>\n",
              "      <td>-1.280547e+00</td>\n",
              "      <td>6.007124e-04</td>\n",
              "    </tr>\n",
              "    <tr>\n",
              "      <th>50%</th>\n",
              "      <td>-1.213865e-02</td>\n",
              "      <td>4.244571e-02</td>\n",
              "      <td>-9.605065e-02</td>\n",
              "      <td>-2.484165e-01</td>\n",
              "      <td>1.489552e-02</td>\n",
              "      <td>-6.017724e-02</td>\n",
              "      <td>-3.487066e-01</td>\n",
              "      <td>-2.316849e-02</td>\n",
              "      <td>6.161537e-04</td>\n",
              "    </tr>\n",
              "    <tr>\n",
              "      <th>75%</th>\n",
              "      <td>7.591190e-01</td>\n",
              "      <td>1.348263e+00</td>\n",
              "      <td>1.062067e+00</td>\n",
              "      <td>1.644943e+00</td>\n",
              "      <td>1.772567e+00</td>\n",
              "      <td>3.272652e+00</td>\n",
              "      <td>1.109867e+00</td>\n",
              "      <td>1.261907e+00</td>\n",
              "      <td>6.328709e-04</td>\n",
              "    </tr>\n",
              "    <tr>\n",
              "      <th>max</th>\n",
              "      <td>5.500267e+00</td>\n",
              "      <td>8.927255e+00</td>\n",
              "      <td>8.339746e+00</td>\n",
              "      <td>1.383066e+01</td>\n",
              "      <td>1.296540e+01</td>\n",
              "      <td>2.014414e+01</td>\n",
              "      <td>8.095802e+00</td>\n",
              "      <td>1.131551e+01</td>\n",
              "      <td>5.294780e+00</td>\n",
              "    </tr>\n",
              "  </tbody>\n",
              "</table>\n",
              "</div>\n",
              "      <button class=\"colab-df-convert\" onclick=\"convertToInteractive('df-591229df-bad4-462a-8da2-b212a7725a97')\"\n",
              "              title=\"Convert this dataframe to an interactive table.\"\n",
              "              style=\"display:none;\">\n",
              "        \n",
              "  <svg xmlns=\"http://www.w3.org/2000/svg\" height=\"24px\"viewBox=\"0 0 24 24\"\n",
              "       width=\"24px\">\n",
              "    <path d=\"M0 0h24v24H0V0z\" fill=\"none\"/>\n",
              "    <path d=\"M18.56 5.44l.94 2.06.94-2.06 2.06-.94-2.06-.94-.94-2.06-.94 2.06-2.06.94zm-11 1L8.5 8.5l.94-2.06 2.06-.94-2.06-.94L8.5 2.5l-.94 2.06-2.06.94zm10 10l.94 2.06.94-2.06 2.06-.94-2.06-.94-.94-2.06-.94 2.06-2.06.94z\"/><path d=\"M17.41 7.96l-1.37-1.37c-.4-.4-.92-.59-1.43-.59-.52 0-1.04.2-1.43.59L10.3 9.45l-7.72 7.72c-.78.78-.78 2.05 0 2.83L4 21.41c.39.39.9.59 1.41.59.51 0 1.02-.2 1.41-.59l7.78-7.78 2.81-2.81c.8-.78.8-2.07 0-2.86zM5.41 20L4 18.59l7.72-7.72 1.47 1.35L5.41 20z\"/>\n",
              "  </svg>\n",
              "      </button>\n",
              "      \n",
              "  <style>\n",
              "    .colab-df-container {\n",
              "      display:flex;\n",
              "      flex-wrap:wrap;\n",
              "      gap: 12px;\n",
              "    }\n",
              "\n",
              "    .colab-df-convert {\n",
              "      background-color: #E8F0FE;\n",
              "      border: none;\n",
              "      border-radius: 50%;\n",
              "      cursor: pointer;\n",
              "      display: none;\n",
              "      fill: #1967D2;\n",
              "      height: 32px;\n",
              "      padding: 0 0 0 0;\n",
              "      width: 32px;\n",
              "    }\n",
              "\n",
              "    .colab-df-convert:hover {\n",
              "      background-color: #E2EBFA;\n",
              "      box-shadow: 0px 1px 2px rgba(60, 64, 67, 0.3), 0px 1px 3px 1px rgba(60, 64, 67, 0.15);\n",
              "      fill: #174EA6;\n",
              "    }\n",
              "\n",
              "    [theme=dark] .colab-df-convert {\n",
              "      background-color: #3B4455;\n",
              "      fill: #D2E3FC;\n",
              "    }\n",
              "\n",
              "    [theme=dark] .colab-df-convert:hover {\n",
              "      background-color: #434B5C;\n",
              "      box-shadow: 0px 1px 3px 1px rgba(0, 0, 0, 0.15);\n",
              "      filter: drop-shadow(0px 1px 2px rgba(0, 0, 0, 0.3));\n",
              "      fill: #FFFFFF;\n",
              "    }\n",
              "  </style>\n",
              "\n",
              "      <script>\n",
              "        const buttonEl =\n",
              "          document.querySelector('#df-591229df-bad4-462a-8da2-b212a7725a97 button.colab-df-convert');\n",
              "        buttonEl.style.display =\n",
              "          google.colab.kernel.accessAllowed ? 'block' : 'none';\n",
              "\n",
              "        async function convertToInteractive(key) {\n",
              "          const element = document.querySelector('#df-591229df-bad4-462a-8da2-b212a7725a97');\n",
              "          const dataTable =\n",
              "            await google.colab.kernel.invokeFunction('convertToInteractive',\n",
              "                                                     [key], {});\n",
              "          if (!dataTable) return;\n",
              "\n",
              "          const docLinkHtml = 'Like what you see? Visit the ' +\n",
              "            '<a target=\"_blank\" href=https://colab.research.google.com/notebooks/data_table.ipynb>data table notebook</a>'\n",
              "            + ' to learn more about interactive tables.';\n",
              "          element.innerHTML = '';\n",
              "          dataTable['output_type'] = 'display_data';\n",
              "          await google.colab.output.renderOutput(dataTable, element);\n",
              "          const docLink = document.createElement('div');\n",
              "          docLink.innerHTML = docLinkHtml;\n",
              "          element.appendChild(docLink);\n",
              "        }\n",
              "      </script>\n",
              "    </div>\n",
              "  </div>\n",
              "  "
            ]
          },
          "metadata": {},
          "execution_count": 45
        }
      ]
    },
    {
      "cell_type": "code",
      "source": [
        "H.to_csv('h.csv')"
      ],
      "metadata": {
        "id": "xyZ8GZcegDSm"
      },
      "execution_count": null,
      "outputs": []
    },
    {
      "cell_type": "code",
      "source": [
        "Healthy.info()"
      ],
      "metadata": {
        "colab": {
          "base_uri": "https://localhost:8080/"
        },
        "id": "Et6bEADP5unc",
        "outputId": "70817fcb-8e80-4601-dab1-8f55168ac4e4"
      },
      "execution_count": null,
      "outputs": [
        {
          "output_type": "stream",
          "name": "stdout",
          "text": [
            "<class 'pandas.core.frame.DataFrame'>\n",
            "RangeIndex: 2400000 entries, 0 to 2399999\n",
            "Data columns (total 9 columns):\n",
            " #   Column  Dtype  \n",
            "---  ------  -----  \n",
            " 0   AN3     float64\n",
            " 1   AN4     float64\n",
            " 2   AN5     float64\n",
            " 3   AN6     float64\n",
            " 4   AN7     float64\n",
            " 5   AN8     float64\n",
            " 6   AN9     float64\n",
            " 7   AN10    float64\n",
            " 8   Speed   float64\n",
            "dtypes: float64(9)\n",
            "memory usage: 164.8 MB\n"
          ]
        }
      ]
    },
    {
      "cell_type": "code",
      "source": [
        "Damaged.describe()"
      ],
      "metadata": {
        "colab": {
          "base_uri": "https://localhost:8080/",
          "height": 364
        },
        "id": "6bCCN8gn5ukU",
        "outputId": "c05d59f2-dec7-44f4-d07f-3d4b8a8e0508"
      },
      "execution_count": null,
      "outputs": [
        {
          "output_type": "execute_result",
          "data": {
            "text/plain": [
              "                AN3           AN4           AN5           AN6           AN7  \\\n",
              "count  2.400000e+06  2.400000e+06  2.400000e+06  2.400000e+06  2.400000e+06   \n",
              "mean  -2.958428e-02 -1.880567e-02 -1.288336e-01 -3.949460e-02 -5.569755e-02   \n",
              "std    2.874807e+00  2.914573e+00  3.856423e+00  4.024469e+00  3.773341e+00   \n",
              "min   -1.135485e+01 -1.287084e+01 -1.994222e+01 -1.821536e+01 -1.736795e+01   \n",
              "25%   -2.040907e+00 -1.951915e+00 -2.693848e+00 -2.779114e+00 -2.633304e+00   \n",
              "50%   -7.433626e-02  4.150427e-03 -2.290346e-01 -4.444429e-02 -1.086357e-01   \n",
              "75%    1.929077e+00  1.937066e+00  2.355113e+00  2.699330e+00  2.467316e+00   \n",
              "max    1.181908e+01  1.322496e+01  2.236811e+01  1.883769e+01  1.788781e+01   \n",
              "\n",
              "                AN8           AN9          AN10  \n",
              "count  2.400000e+06  2.400000e+06  2.400000e+06  \n",
              "mean  -3.979978e-02 -8.106140e-02 -1.677803e-02  \n",
              "std    7.564009e+00  7.154355e+00  3.963131e+00  \n",
              "min   -3.328639e+01 -3.307267e+01 -1.933264e+01  \n",
              "25%   -5.122533e+00 -5.015645e+00 -2.701699e+00  \n",
              "50%    7.372648e-02 -1.485469e-01 -2.846304e-02  \n",
              "75%    5.162461e+00  4.795604e+00  2.685085e+00  \n",
              "max    3.560002e+01  3.399795e+01  1.707086e+01  "
            ],
            "text/html": [
              "\n",
              "  <div id=\"df-4a1d48fc-4f34-4a20-b0de-0482c5c139a1\">\n",
              "    <div class=\"colab-df-container\">\n",
              "      <div>\n",
              "<style scoped>\n",
              "    .dataframe tbody tr th:only-of-type {\n",
              "        vertical-align: middle;\n",
              "    }\n",
              "\n",
              "    .dataframe tbody tr th {\n",
              "        vertical-align: top;\n",
              "    }\n",
              "\n",
              "    .dataframe thead th {\n",
              "        text-align: right;\n",
              "    }\n",
              "</style>\n",
              "<table border=\"1\" class=\"dataframe\">\n",
              "  <thead>\n",
              "    <tr style=\"text-align: right;\">\n",
              "      <th></th>\n",
              "      <th>AN3</th>\n",
              "      <th>AN4</th>\n",
              "      <th>AN5</th>\n",
              "      <th>AN6</th>\n",
              "      <th>AN7</th>\n",
              "      <th>AN8</th>\n",
              "      <th>AN9</th>\n",
              "      <th>AN10</th>\n",
              "    </tr>\n",
              "  </thead>\n",
              "  <tbody>\n",
              "    <tr>\n",
              "      <th>count</th>\n",
              "      <td>2.400000e+06</td>\n",
              "      <td>2.400000e+06</td>\n",
              "      <td>2.400000e+06</td>\n",
              "      <td>2.400000e+06</td>\n",
              "      <td>2.400000e+06</td>\n",
              "      <td>2.400000e+06</td>\n",
              "      <td>2.400000e+06</td>\n",
              "      <td>2.400000e+06</td>\n",
              "    </tr>\n",
              "    <tr>\n",
              "      <th>mean</th>\n",
              "      <td>-2.958428e-02</td>\n",
              "      <td>-1.880567e-02</td>\n",
              "      <td>-1.288336e-01</td>\n",
              "      <td>-3.949460e-02</td>\n",
              "      <td>-5.569755e-02</td>\n",
              "      <td>-3.979978e-02</td>\n",
              "      <td>-8.106140e-02</td>\n",
              "      <td>-1.677803e-02</td>\n",
              "    </tr>\n",
              "    <tr>\n",
              "      <th>std</th>\n",
              "      <td>2.874807e+00</td>\n",
              "      <td>2.914573e+00</td>\n",
              "      <td>3.856423e+00</td>\n",
              "      <td>4.024469e+00</td>\n",
              "      <td>3.773341e+00</td>\n",
              "      <td>7.564009e+00</td>\n",
              "      <td>7.154355e+00</td>\n",
              "      <td>3.963131e+00</td>\n",
              "    </tr>\n",
              "    <tr>\n",
              "      <th>min</th>\n",
              "      <td>-1.135485e+01</td>\n",
              "      <td>-1.287084e+01</td>\n",
              "      <td>-1.994222e+01</td>\n",
              "      <td>-1.821536e+01</td>\n",
              "      <td>-1.736795e+01</td>\n",
              "      <td>-3.328639e+01</td>\n",
              "      <td>-3.307267e+01</td>\n",
              "      <td>-1.933264e+01</td>\n",
              "    </tr>\n",
              "    <tr>\n",
              "      <th>25%</th>\n",
              "      <td>-2.040907e+00</td>\n",
              "      <td>-1.951915e+00</td>\n",
              "      <td>-2.693848e+00</td>\n",
              "      <td>-2.779114e+00</td>\n",
              "      <td>-2.633304e+00</td>\n",
              "      <td>-5.122533e+00</td>\n",
              "      <td>-5.015645e+00</td>\n",
              "      <td>-2.701699e+00</td>\n",
              "    </tr>\n",
              "    <tr>\n",
              "      <th>50%</th>\n",
              "      <td>-7.433626e-02</td>\n",
              "      <td>4.150427e-03</td>\n",
              "      <td>-2.290346e-01</td>\n",
              "      <td>-4.444429e-02</td>\n",
              "      <td>-1.086357e-01</td>\n",
              "      <td>7.372648e-02</td>\n",
              "      <td>-1.485469e-01</td>\n",
              "      <td>-2.846304e-02</td>\n",
              "    </tr>\n",
              "    <tr>\n",
              "      <th>75%</th>\n",
              "      <td>1.929077e+00</td>\n",
              "      <td>1.937066e+00</td>\n",
              "      <td>2.355113e+00</td>\n",
              "      <td>2.699330e+00</td>\n",
              "      <td>2.467316e+00</td>\n",
              "      <td>5.162461e+00</td>\n",
              "      <td>4.795604e+00</td>\n",
              "      <td>2.685085e+00</td>\n",
              "    </tr>\n",
              "    <tr>\n",
              "      <th>max</th>\n",
              "      <td>1.181908e+01</td>\n",
              "      <td>1.322496e+01</td>\n",
              "      <td>2.236811e+01</td>\n",
              "      <td>1.883769e+01</td>\n",
              "      <td>1.788781e+01</td>\n",
              "      <td>3.560002e+01</td>\n",
              "      <td>3.399795e+01</td>\n",
              "      <td>1.707086e+01</td>\n",
              "    </tr>\n",
              "  </tbody>\n",
              "</table>\n",
              "</div>\n",
              "      <button class=\"colab-df-convert\" onclick=\"convertToInteractive('df-4a1d48fc-4f34-4a20-b0de-0482c5c139a1')\"\n",
              "              title=\"Convert this dataframe to an interactive table.\"\n",
              "              style=\"display:none;\">\n",
              "        \n",
              "  <svg xmlns=\"http://www.w3.org/2000/svg\" height=\"24px\"viewBox=\"0 0 24 24\"\n",
              "       width=\"24px\">\n",
              "    <path d=\"M0 0h24v24H0V0z\" fill=\"none\"/>\n",
              "    <path d=\"M18.56 5.44l.94 2.06.94-2.06 2.06-.94-2.06-.94-.94-2.06-.94 2.06-2.06.94zm-11 1L8.5 8.5l.94-2.06 2.06-.94-2.06-.94L8.5 2.5l-.94 2.06-2.06.94zm10 10l.94 2.06.94-2.06 2.06-.94-2.06-.94-.94-2.06-.94 2.06-2.06.94z\"/><path d=\"M17.41 7.96l-1.37-1.37c-.4-.4-.92-.59-1.43-.59-.52 0-1.04.2-1.43.59L10.3 9.45l-7.72 7.72c-.78.78-.78 2.05 0 2.83L4 21.41c.39.39.9.59 1.41.59.51 0 1.02-.2 1.41-.59l7.78-7.78 2.81-2.81c.8-.78.8-2.07 0-2.86zM5.41 20L4 18.59l7.72-7.72 1.47 1.35L5.41 20z\"/>\n",
              "  </svg>\n",
              "      </button>\n",
              "      \n",
              "  <style>\n",
              "    .colab-df-container {\n",
              "      display:flex;\n",
              "      flex-wrap:wrap;\n",
              "      gap: 12px;\n",
              "    }\n",
              "\n",
              "    .colab-df-convert {\n",
              "      background-color: #E8F0FE;\n",
              "      border: none;\n",
              "      border-radius: 50%;\n",
              "      cursor: pointer;\n",
              "      display: none;\n",
              "      fill: #1967D2;\n",
              "      height: 32px;\n",
              "      padding: 0 0 0 0;\n",
              "      width: 32px;\n",
              "    }\n",
              "\n",
              "    .colab-df-convert:hover {\n",
              "      background-color: #E2EBFA;\n",
              "      box-shadow: 0px 1px 2px rgba(60, 64, 67, 0.3), 0px 1px 3px 1px rgba(60, 64, 67, 0.15);\n",
              "      fill: #174EA6;\n",
              "    }\n",
              "\n",
              "    [theme=dark] .colab-df-convert {\n",
              "      background-color: #3B4455;\n",
              "      fill: #D2E3FC;\n",
              "    }\n",
              "\n",
              "    [theme=dark] .colab-df-convert:hover {\n",
              "      background-color: #434B5C;\n",
              "      box-shadow: 0px 1px 3px 1px rgba(0, 0, 0, 0.15);\n",
              "      filter: drop-shadow(0px 1px 2px rgba(0, 0, 0, 0.3));\n",
              "      fill: #FFFFFF;\n",
              "    }\n",
              "  </style>\n",
              "\n",
              "      <script>\n",
              "        const buttonEl =\n",
              "          document.querySelector('#df-4a1d48fc-4f34-4a20-b0de-0482c5c139a1 button.colab-df-convert');\n",
              "        buttonEl.style.display =\n",
              "          google.colab.kernel.accessAllowed ? 'block' : 'none';\n",
              "\n",
              "        async function convertToInteractive(key) {\n",
              "          const element = document.querySelector('#df-4a1d48fc-4f34-4a20-b0de-0482c5c139a1');\n",
              "          const dataTable =\n",
              "            await google.colab.kernel.invokeFunction('convertToInteractive',\n",
              "                                                     [key], {});\n",
              "          if (!dataTable) return;\n",
              "\n",
              "          const docLinkHtml = 'Like what you see? Visit the ' +\n",
              "            '<a target=\"_blank\" href=https://colab.research.google.com/notebooks/data_table.ipynb>data table notebook</a>'\n",
              "            + ' to learn more about interactive tables.';\n",
              "          element.innerHTML = '';\n",
              "          dataTable['output_type'] = 'display_data';\n",
              "          await google.colab.output.renderOutput(dataTable, element);\n",
              "          const docLink = document.createElement('div');\n",
              "          docLink.innerHTML = docLinkHtml;\n",
              "          element.appendChild(docLink);\n",
              "        }\n",
              "      </script>\n",
              "    </div>\n",
              "  </div>\n",
              "  "
            ]
          },
          "metadata": {},
          "execution_count": 66
        }
      ]
    },
    {
      "cell_type": "code",
      "source": [
        "from scipy.stats import skew\n",
        "print(skew(Healthy, axis=0, bias=True))"
      ],
      "metadata": {
        "colab": {
          "base_uri": "https://localhost:8080/"
        },
        "id": "Pql0twYh5uhP",
        "outputId": "a8a95a94-dd61-4ed8-9637-96e113c60fdf"
      },
      "execution_count": null,
      "outputs": [
        {
          "output_type": "stream",
          "name": "stdout",
          "text": [
            "[ 0.04891487 -0.0944701   0.01755908  0.01745276  0.00719676 -0.00867739\n",
            " -0.04598761  0.08478806  7.07916895]\n"
          ]
        }
      ]
    },
    {
      "cell_type": "code",
      "source": [
        "from scipy.stats import skew\n",
        "print(skew(Damaged, axis=0, bias=True))"
      ],
      "metadata": {
        "colab": {
          "base_uri": "https://localhost:8080/"
        },
        "id": "ha7WzHaT5ucW",
        "outputId": "3a9eb8d6-e9b0-482b-a919-991318705379"
      },
      "execution_count": null,
      "outputs": [
        {
          "output_type": "stream",
          "name": "stdout",
          "text": [
            "[ 0.08311239 -0.03702691  0.11187469  0.00222807  0.07200838 -0.06628419\n",
            "  0.04499418 -0.01838931 -0.30186682]\n"
          ]
        }
      ]
    },
    {
      "cell_type": "code",
      "source": [
        "from scipy.stats import kurtosis\n",
        "print(kurtosis(Healthy, axis=0, bias=True))"
      ],
      "metadata": {
        "colab": {
          "base_uri": "https://localhost:8080/"
        },
        "id": "z1bE--_L0SRb",
        "outputId": "b9366f2a-c850-46a2-cacc-58883d18cc14"
      },
      "execution_count": null,
      "outputs": [
        {
          "output_type": "stream",
          "name": "stdout",
          "text": [
            "[-1.99995102e-02 -2.03336095e-01  4.86579550e-03  1.66812625e-02\n",
            "  8.53313578e-02 -3.11441027e-01 -2.73034455e-01  7.64073108e-02\n",
            "  4.83348964e+01]\n"
          ]
        }
      ]
    },
    {
      "cell_type": "code",
      "source": [
        "from scipy.stats import kurtosis\n",
        "print(kurtosis(Damaged, axis=0, bias=True))"
      ],
      "metadata": {
        "colab": {
          "base_uri": "https://localhost:8080/"
        },
        "id": "ZKaZI_kL6spZ",
        "outputId": "43206464-5a84-4601-973c-b6b4ed8cd5f7"
      },
      "execution_count": null,
      "outputs": [
        {
          "output_type": "stream",
          "name": "stdout",
          "text": [
            "[-0.21215091  0.02492865  0.27635279 -0.07266529 -0.02072116 -0.02664067\n",
            " -0.14947894 -0.0898559  -1.26157782]\n"
          ]
        }
      ]
    },
    {
      "cell_type": "code",
      "source": [
        "Healthy.isnull()"
      ],
      "metadata": {
        "colab": {
          "base_uri": "https://localhost:8080/",
          "height": 423
        },
        "id": "ITI12-Hi6zwQ",
        "outputId": "b9286e68-b259-4c17-ea14-d7950b606ec7"
      },
      "execution_count": null,
      "outputs": [
        {
          "output_type": "execute_result",
          "data": {
            "text/plain": [
              "           AN3    AN4    AN5    AN6    AN7    AN8    AN9   AN10\n",
              "0        False  False  False  False  False  False  False  False\n",
              "1        False  False  False  False  False  False  False  False\n",
              "2        False  False  False  False  False  False  False  False\n",
              "3        False  False  False  False  False  False  False  False\n",
              "4        False  False  False  False  False  False  False  False\n",
              "...        ...    ...    ...    ...    ...    ...    ...    ...\n",
              "2399995  False  False  False  False  False  False  False  False\n",
              "2399996  False  False  False  False  False  False  False  False\n",
              "2399997  False  False  False  False  False  False  False  False\n",
              "2399998  False  False  False  False  False  False  False  False\n",
              "2399999  False  False  False  False  False  False  False  False\n",
              "\n",
              "[2400000 rows x 8 columns]"
            ],
            "text/html": [
              "\n",
              "  <div id=\"df-6cc4febd-a169-49b4-92a7-f950dad59770\">\n",
              "    <div class=\"colab-df-container\">\n",
              "      <div>\n",
              "<style scoped>\n",
              "    .dataframe tbody tr th:only-of-type {\n",
              "        vertical-align: middle;\n",
              "    }\n",
              "\n",
              "    .dataframe tbody tr th {\n",
              "        vertical-align: top;\n",
              "    }\n",
              "\n",
              "    .dataframe thead th {\n",
              "        text-align: right;\n",
              "    }\n",
              "</style>\n",
              "<table border=\"1\" class=\"dataframe\">\n",
              "  <thead>\n",
              "    <tr style=\"text-align: right;\">\n",
              "      <th></th>\n",
              "      <th>AN3</th>\n",
              "      <th>AN4</th>\n",
              "      <th>AN5</th>\n",
              "      <th>AN6</th>\n",
              "      <th>AN7</th>\n",
              "      <th>AN8</th>\n",
              "      <th>AN9</th>\n",
              "      <th>AN10</th>\n",
              "    </tr>\n",
              "  </thead>\n",
              "  <tbody>\n",
              "    <tr>\n",
              "      <th>0</th>\n",
              "      <td>False</td>\n",
              "      <td>False</td>\n",
              "      <td>False</td>\n",
              "      <td>False</td>\n",
              "      <td>False</td>\n",
              "      <td>False</td>\n",
              "      <td>False</td>\n",
              "      <td>False</td>\n",
              "    </tr>\n",
              "    <tr>\n",
              "      <th>1</th>\n",
              "      <td>False</td>\n",
              "      <td>False</td>\n",
              "      <td>False</td>\n",
              "      <td>False</td>\n",
              "      <td>False</td>\n",
              "      <td>False</td>\n",
              "      <td>False</td>\n",
              "      <td>False</td>\n",
              "    </tr>\n",
              "    <tr>\n",
              "      <th>2</th>\n",
              "      <td>False</td>\n",
              "      <td>False</td>\n",
              "      <td>False</td>\n",
              "      <td>False</td>\n",
              "      <td>False</td>\n",
              "      <td>False</td>\n",
              "      <td>False</td>\n",
              "      <td>False</td>\n",
              "    </tr>\n",
              "    <tr>\n",
              "      <th>3</th>\n",
              "      <td>False</td>\n",
              "      <td>False</td>\n",
              "      <td>False</td>\n",
              "      <td>False</td>\n",
              "      <td>False</td>\n",
              "      <td>False</td>\n",
              "      <td>False</td>\n",
              "      <td>False</td>\n",
              "    </tr>\n",
              "    <tr>\n",
              "      <th>4</th>\n",
              "      <td>False</td>\n",
              "      <td>False</td>\n",
              "      <td>False</td>\n",
              "      <td>False</td>\n",
              "      <td>False</td>\n",
              "      <td>False</td>\n",
              "      <td>False</td>\n",
              "      <td>False</td>\n",
              "    </tr>\n",
              "    <tr>\n",
              "      <th>...</th>\n",
              "      <td>...</td>\n",
              "      <td>...</td>\n",
              "      <td>...</td>\n",
              "      <td>...</td>\n",
              "      <td>...</td>\n",
              "      <td>...</td>\n",
              "      <td>...</td>\n",
              "      <td>...</td>\n",
              "    </tr>\n",
              "    <tr>\n",
              "      <th>2399995</th>\n",
              "      <td>False</td>\n",
              "      <td>False</td>\n",
              "      <td>False</td>\n",
              "      <td>False</td>\n",
              "      <td>False</td>\n",
              "      <td>False</td>\n",
              "      <td>False</td>\n",
              "      <td>False</td>\n",
              "    </tr>\n",
              "    <tr>\n",
              "      <th>2399996</th>\n",
              "      <td>False</td>\n",
              "      <td>False</td>\n",
              "      <td>False</td>\n",
              "      <td>False</td>\n",
              "      <td>False</td>\n",
              "      <td>False</td>\n",
              "      <td>False</td>\n",
              "      <td>False</td>\n",
              "    </tr>\n",
              "    <tr>\n",
              "      <th>2399997</th>\n",
              "      <td>False</td>\n",
              "      <td>False</td>\n",
              "      <td>False</td>\n",
              "      <td>False</td>\n",
              "      <td>False</td>\n",
              "      <td>False</td>\n",
              "      <td>False</td>\n",
              "      <td>False</td>\n",
              "    </tr>\n",
              "    <tr>\n",
              "      <th>2399998</th>\n",
              "      <td>False</td>\n",
              "      <td>False</td>\n",
              "      <td>False</td>\n",
              "      <td>False</td>\n",
              "      <td>False</td>\n",
              "      <td>False</td>\n",
              "      <td>False</td>\n",
              "      <td>False</td>\n",
              "    </tr>\n",
              "    <tr>\n",
              "      <th>2399999</th>\n",
              "      <td>False</td>\n",
              "      <td>False</td>\n",
              "      <td>False</td>\n",
              "      <td>False</td>\n",
              "      <td>False</td>\n",
              "      <td>False</td>\n",
              "      <td>False</td>\n",
              "      <td>False</td>\n",
              "    </tr>\n",
              "  </tbody>\n",
              "</table>\n",
              "<p>2400000 rows × 8 columns</p>\n",
              "</div>\n",
              "      <button class=\"colab-df-convert\" onclick=\"convertToInteractive('df-6cc4febd-a169-49b4-92a7-f950dad59770')\"\n",
              "              title=\"Convert this dataframe to an interactive table.\"\n",
              "              style=\"display:none;\">\n",
              "        \n",
              "  <svg xmlns=\"http://www.w3.org/2000/svg\" height=\"24px\"viewBox=\"0 0 24 24\"\n",
              "       width=\"24px\">\n",
              "    <path d=\"M0 0h24v24H0V0z\" fill=\"none\"/>\n",
              "    <path d=\"M18.56 5.44l.94 2.06.94-2.06 2.06-.94-2.06-.94-.94-2.06-.94 2.06-2.06.94zm-11 1L8.5 8.5l.94-2.06 2.06-.94-2.06-.94L8.5 2.5l-.94 2.06-2.06.94zm10 10l.94 2.06.94-2.06 2.06-.94-2.06-.94-.94-2.06-.94 2.06-2.06.94z\"/><path d=\"M17.41 7.96l-1.37-1.37c-.4-.4-.92-.59-1.43-.59-.52 0-1.04.2-1.43.59L10.3 9.45l-7.72 7.72c-.78.78-.78 2.05 0 2.83L4 21.41c.39.39.9.59 1.41.59.51 0 1.02-.2 1.41-.59l7.78-7.78 2.81-2.81c.8-.78.8-2.07 0-2.86zM5.41 20L4 18.59l7.72-7.72 1.47 1.35L5.41 20z\"/>\n",
              "  </svg>\n",
              "      </button>\n",
              "      \n",
              "  <style>\n",
              "    .colab-df-container {\n",
              "      display:flex;\n",
              "      flex-wrap:wrap;\n",
              "      gap: 12px;\n",
              "    }\n",
              "\n",
              "    .colab-df-convert {\n",
              "      background-color: #E8F0FE;\n",
              "      border: none;\n",
              "      border-radius: 50%;\n",
              "      cursor: pointer;\n",
              "      display: none;\n",
              "      fill: #1967D2;\n",
              "      height: 32px;\n",
              "      padding: 0 0 0 0;\n",
              "      width: 32px;\n",
              "    }\n",
              "\n",
              "    .colab-df-convert:hover {\n",
              "      background-color: #E2EBFA;\n",
              "      box-shadow: 0px 1px 2px rgba(60, 64, 67, 0.3), 0px 1px 3px 1px rgba(60, 64, 67, 0.15);\n",
              "      fill: #174EA6;\n",
              "    }\n",
              "\n",
              "    [theme=dark] .colab-df-convert {\n",
              "      background-color: #3B4455;\n",
              "      fill: #D2E3FC;\n",
              "    }\n",
              "\n",
              "    [theme=dark] .colab-df-convert:hover {\n",
              "      background-color: #434B5C;\n",
              "      box-shadow: 0px 1px 3px 1px rgba(0, 0, 0, 0.15);\n",
              "      filter: drop-shadow(0px 1px 2px rgba(0, 0, 0, 0.3));\n",
              "      fill: #FFFFFF;\n",
              "    }\n",
              "  </style>\n",
              "\n",
              "      <script>\n",
              "        const buttonEl =\n",
              "          document.querySelector('#df-6cc4febd-a169-49b4-92a7-f950dad59770 button.colab-df-convert');\n",
              "        buttonEl.style.display =\n",
              "          google.colab.kernel.accessAllowed ? 'block' : 'none';\n",
              "\n",
              "        async function convertToInteractive(key) {\n",
              "          const element = document.querySelector('#df-6cc4febd-a169-49b4-92a7-f950dad59770');\n",
              "          const dataTable =\n",
              "            await google.colab.kernel.invokeFunction('convertToInteractive',\n",
              "                                                     [key], {});\n",
              "          if (!dataTable) return;\n",
              "\n",
              "          const docLinkHtml = 'Like what you see? Visit the ' +\n",
              "            '<a target=\"_blank\" href=https://colab.research.google.com/notebooks/data_table.ipynb>data table notebook</a>'\n",
              "            + ' to learn more about interactive tables.';\n",
              "          element.innerHTML = '';\n",
              "          dataTable['output_type'] = 'display_data';\n",
              "          await google.colab.output.renderOutput(dataTable, element);\n",
              "          const docLink = document.createElement('div');\n",
              "          docLink.innerHTML = docLinkHtml;\n",
              "          element.appendChild(docLink);\n",
              "        }\n",
              "      </script>\n",
              "    </div>\n",
              "  </div>\n",
              "  "
            ]
          },
          "metadata": {},
          "execution_count": 67
        }
      ]
    },
    {
      "cell_type": "code",
      "source": [
        "Healthy.isnull().sum()"
      ],
      "metadata": {
        "colab": {
          "base_uri": "https://localhost:8080/"
        },
        "id": "2Gf7uHsL67DD",
        "outputId": "2b249476-6e16-45e4-d531-a868d5c1a53f"
      },
      "execution_count": null,
      "outputs": [
        {
          "output_type": "execute_result",
          "data": {
            "text/plain": [
              "AN3     0\n",
              "AN4     0\n",
              "AN5     0\n",
              "AN6     0\n",
              "AN7     0\n",
              "AN8     0\n",
              "AN9     0\n",
              "AN10    0\n",
              "dtype: int64"
            ]
          },
          "metadata": {},
          "execution_count": 68
        }
      ]
    },
    {
      "cell_type": "code",
      "source": [
        "Damaged.isnull().sum()"
      ],
      "metadata": {
        "colab": {
          "base_uri": "https://localhost:8080/"
        },
        "id": "0l9eA3Pc7AWQ",
        "outputId": "ea8af17b-c622-4e92-915e-8605723f9295"
      },
      "execution_count": null,
      "outputs": [
        {
          "output_type": "execute_result",
          "data": {
            "text/plain": [
              "AN3     0\n",
              "AN4     0\n",
              "AN5     0\n",
              "AN6     0\n",
              "AN7     0\n",
              "AN8     0\n",
              "AN9     0\n",
              "AN10    0\n",
              "dtype: int64"
            ]
          },
          "metadata": {},
          "execution_count": 69
        }
      ]
    },
    {
      "cell_type": "code",
      "source": [],
      "metadata": {
        "id": "41PJYDpi7HNN"
      },
      "execution_count": null,
      "outputs": []
    },
    {
      "cell_type": "markdown",
      "source": [
        "#RAE\n"
      ],
      "metadata": {
        "id": "FQjtAKMunHCt"
      }
    },
    {
      "cell_type": "code",
      "source": [
        "import pandas as pd\n",
        "import numpy as np\n",
        "import tensorflow as tf\n",
        "from sklearn.model_selection import train_test_split\n",
        "from sklearn.preprocessing import StandardScaler\n",
        "from keras.callbacks import EarlyStopping\n",
        "\n",
        "# Define early stopping callback\n",
        "early_stopping = EarlyStopping(monitor='val_loss', patience=10, restore_best_weights=True)\n",
        "\n",
        "# Load the healthy and damaged datasets into Pandas dataframes\n",
        "df_healthy = Healthy\n",
        "df_damaged = Damaged\n",
        "\n",
        "input_shape = 8\n",
        "nb_epoch = 100\n",
        "batchsize = 80\n",
        "encoding_dim = 6\n",
        "hidden_dim_1 = 4\n",
        "hidden_dim_2 = 2\n",
        "learning_rate = 1e-6\n",
        "\n",
        "# Set the number of features (columns) in the dataset\n",
        "num_features = len(df_healthy.columns)\n",
        "\n",
        "# Separate the healthy and damaged datasets into training and testing sets\n",
        "x_train, x_test, y_train, y_test = train_test_split(df_healthy.values, np.zeros(len(df_healthy)), test_size=0.2, random_state=42)\n",
        "x_val, x_test, y_val, y_test = train_test_split(x_test, y_test, test_size=0.5, random_state=42)\n",
        "x_test_damaged = df_damaged.values\n",
        "y_test_damaged = np.ones(len(x_test_damaged))\n",
        "\n",
        "# Initialize the scaler\n",
        "scaler = StandardScaler()\n",
        "# Fit and transform the training data\n",
        "x_train_scaled = scaler.fit_transform(x_train)\n",
        "# Transform the validation and test data using the fitted scaler\n",
        "x_val_scaled = scaler.transform(x_val)\n",
        "x_test_scaled = scaler.transform(x_test)\n",
        "# Transform the damaged test data using the fitted scaler\n",
        "x_test_damaged_scaled = scaler.transform(x_test_damaged)\n",
        "\n",
        "# Define the RAE architecture\n",
        "#input Layer\n",
        "input_layer = tf.keras.layers.Input(shape=input_shape)\n",
        "#Encoder\n",
        "encoder = tf.keras.layers.Dense(encoding_dim, activation=\"tanh\",activity_regularizer=tf.keras.regularizers.l2(learning_rate))(input_layer)\n",
        "encoder = tf.keras.layers.Dense(hidden_dim_1, activation='relu')(encoder)\n",
        "encoder = tf.keras.layers.Dense(hidden_dim_2, activation='relu')(encoder)\n",
        "# Decoder\n",
        "decoder = tf.keras.layers.Dense(hidden_dim_1, activation='relu')(encoder)\n",
        "decoder = tf.keras.layers.Dense(encoding_dim, activation='relu')(decoder)\n",
        "decoder = tf.keras.layers.Dense(input_shape, activation='tanh')(decoder)\n",
        "#Autoencoder\n",
        "autoencoder = tf.keras.Model(inputs=input_layer, outputs=decoder)\n",
        "autoencoder.summary()\n",
        "\n",
        "# Compile the model\n",
        "autoencoder.compile(optimizer='adam', loss='mse')\n",
        "\n",
        "# Train the autoencoder model on the healthy dataset\n",
        "autoencoder.fit(x_train_scaled, x_train_scaled,\n",
        "                epochs=nb_epoch,\n",
        "                batch_size=batchsize,\n",
        "                shuffle=True,\n",
        "                validation_data=(x_val_scaled, x_val_scaled),\n",
        "                verbose=1,\n",
        "                callbacks=early_stopping)\n",
        "\n",
        "# Evaluate the autoencoder model on the healthy dataset\n",
        "test_loss = autoencoder.evaluate(x_test_scaled, x_test_scaled, verbose=0)\n",
        "print(f\"Healthy dataset test loss: {test_loss}\")\n",
        "\n",
        "#\n",
        "# Evaluate the autoencoder model on the damaged dataset\n",
        "test_loss_damaged = autoencoder.evaluate(x_test_damaged_scaled, x_test_damaged_scaled, verbose=0)\n",
        "print(f\"Damaged dataset test loss: {test_loss_damaged}\")\n",
        "\n"
      ],
      "metadata": {
        "colab": {
          "base_uri": "https://localhost:8080/"
        },
        "id": "bACP2Pepl5BG",
        "outputId": "f8d4dbb9-e49b-46f0-ea03-986d7d9c2c47"
      },
      "execution_count": null,
      "outputs": [
        {
          "output_type": "stream",
          "name": "stdout",
          "text": [
            "Model: \"model_9\"\n",
            "_________________________________________________________________\n",
            " Layer (type)                Output Shape              Param #   \n",
            "=================================================================\n",
            " input_10 (InputLayer)       [(None, 8)]               0         \n",
            "                                                                 \n",
            " dense_54 (Dense)            (None, 6)                 54        \n",
            "                                                                 \n",
            " dense_55 (Dense)            (None, 4)                 28        \n",
            "                                                                 \n",
            " dense_56 (Dense)            (None, 2)                 10        \n",
            "                                                                 \n",
            " dense_57 (Dense)            (None, 4)                 12        \n",
            "                                                                 \n",
            " dense_58 (Dense)            (None, 6)                 30        \n",
            "                                                                 \n",
            " dense_59 (Dense)            (None, 8)                 56        \n",
            "                                                                 \n",
            "=================================================================\n",
            "Total params: 190\n",
            "Trainable params: 190\n",
            "Non-trainable params: 0\n",
            "_________________________________________________________________\n",
            "Epoch 1/100\n",
            "24000/24000 [==============================] - 57s 2ms/step - loss: 0.5590 - val_loss: 0.5332\n",
            "Epoch 2/100\n",
            "24000/24000 [==============================] - 54s 2ms/step - loss: 0.5237 - val_loss: 0.5155\n",
            "Epoch 3/100\n",
            "24000/24000 [==============================] - 50s 2ms/step - loss: 0.5106 - val_loss: 0.5037\n",
            "Epoch 4/100\n",
            "24000/24000 [==============================] - 53s 2ms/step - loss: 0.5007 - val_loss: 0.4983\n",
            "Epoch 5/100\n",
            "24000/24000 [==============================] - 52s 2ms/step - loss: 0.4968 - val_loss: 0.4950\n",
            "Epoch 6/100\n",
            "24000/24000 [==============================] - 55s 2ms/step - loss: 0.4957 - val_loss: 0.4935\n",
            "Epoch 7/100\n",
            "24000/24000 [==============================] - 55s 2ms/step - loss: 0.4949 - val_loss: 0.4934\n",
            "Epoch 8/100\n",
            "24000/24000 [==============================] - 52s 2ms/step - loss: 0.4939 - val_loss: 0.4926\n",
            "Epoch 9/100\n",
            "24000/24000 [==============================] - 51s 2ms/step - loss: 0.4934 - val_loss: 0.4914\n",
            "Epoch 10/100\n",
            "24000/24000 [==============================] - 51s 2ms/step - loss: 0.4927 - val_loss: 0.4913\n",
            "Epoch 11/100\n",
            "24000/24000 [==============================] - 52s 2ms/step - loss: 0.4922 - val_loss: 0.4912\n",
            "Epoch 12/100\n",
            "24000/24000 [==============================] - 53s 2ms/step - loss: 0.4918 - val_loss: 0.4900\n",
            "Epoch 13/100\n",
            "24000/24000 [==============================] - 51s 2ms/step - loss: 0.4916 - val_loss: 0.4940\n",
            "Epoch 14/100\n",
            "24000/24000 [==============================] - 51s 2ms/step - loss: 0.4909 - val_loss: 0.4890\n",
            "Epoch 15/100\n",
            "24000/24000 [==============================] - 86s 4ms/step - loss: 0.4909 - val_loss: 0.4909\n",
            "Epoch 16/100\n",
            "24000/24000 [==============================] - 53s 2ms/step - loss: 0.4908 - val_loss: 0.4881\n",
            "Epoch 17/100\n",
            "24000/24000 [==============================] - 52s 2ms/step - loss: 0.4903 - val_loss: 0.4923\n",
            "Epoch 18/100\n",
            "24000/24000 [==============================] - 54s 2ms/step - loss: 0.4906 - val_loss: 0.4878\n",
            "Epoch 19/100\n",
            "24000/24000 [==============================] - 52s 2ms/step - loss: 0.4901 - val_loss: 0.4876\n",
            "Epoch 20/100\n",
            "24000/24000 [==============================] - 50s 2ms/step - loss: 0.4899 - val_loss: 0.4897\n",
            "Epoch 21/100\n",
            "24000/24000 [==============================] - 53s 2ms/step - loss: 0.4905 - val_loss: 0.4899\n",
            "Epoch 22/100\n",
            "24000/24000 [==============================] - 65s 3ms/step - loss: 0.4908 - val_loss: 0.4898\n",
            "Epoch 23/100\n",
            "24000/24000 [==============================] - 53s 2ms/step - loss: 0.4903 - val_loss: 0.4879\n",
            "Epoch 24/100\n",
            "24000/24000 [==============================] - 53s 2ms/step - loss: 0.4906 - val_loss: 0.4884\n",
            "Epoch 25/100\n",
            "24000/24000 [==============================] - 52s 2ms/step - loss: 0.4899 - val_loss: 0.4920\n",
            "Epoch 26/100\n",
            "24000/24000 [==============================] - 56s 2ms/step - loss: 0.4902 - val_loss: 0.4938\n",
            "Epoch 27/100\n",
            "24000/24000 [==============================] - 55s 2ms/step - loss: 0.4902 - val_loss: 0.4902\n",
            "Epoch 28/100\n",
            "24000/24000 [==============================] - 52s 2ms/step - loss: 0.4899 - val_loss: 0.4907\n",
            "Epoch 29/100\n",
            "24000/24000 [==============================] - 52s 2ms/step - loss: 0.4902 - val_loss: 0.4896\n",
            "Healthy dataset test loss: 0.4876245856285095\n",
            "Damaged dataset test loss: 3.3500289916992188\n"
          ]
        }
      ]
    },
    {
      "cell_type": "code",
      "source": [
        "from sklearn.metrics import accuracy_score,f1_score, precision_score, recall_score, confusion_matrix\n",
        "\n",
        "# Generate reconstructions for the test data\n",
        "y_pred = autoencoder.predict(x_test_damaged_scaled)\n",
        "\n",
        "# Compute the reconstruction error for each sample\n",
        "mse = np.mean(np.power(x_test_damaged_scaled - y_pred, 2), axis=1)\n",
        "\n",
        "# Threshold the reconstruction error to predict labels (healthy or damaged)\n",
        "threshold = np.mean(mse) - np.std(mse)\n",
        "y_pred1 = (mse > threshold).astype(int)\n",
        "\n",
        "# Compute the classification accuracy of the predictions\n",
        "accuracy = accuracy_score(y_test_damaged, y_pred1)\n",
        "f1_score = f1_score(y_test_damaged, y_pred1)\n",
        "precision = precision_score(y_test_damaged, y_pred1)\n",
        "recall = recall_score(y_test_damaged, y_pred1)\n",
        "\n",
        "\n",
        "print('Accuracy:', accuracy)\n",
        "print('F1: ',f1_score)\n",
        "print('Precision :',precision)\n",
        "print('Recall :', recall)"
      ],
      "metadata": {
        "id": "RLXd5zdlmZs4",
        "colab": {
          "base_uri": "https://localhost:8080/"
        },
        "outputId": "d6c1a865-2f8b-469b-d0aa-aaeac5dc2e16"
      },
      "execution_count": null,
      "outputs": [
        {
          "output_type": "stream",
          "name": "stdout",
          "text": [
            "75000/75000 [==============================] - 111s 1ms/step\n",
            "Accuracy: 0.89949125\n",
            "F1:  0.9470864896060984\n",
            "Precision : 1.0\n",
            "Recall : 0.89949125\n"
          ]
        }
      ]
    },
    {
      "cell_type": "markdown",
      "source": [
        "#RF-PCA & LDA"
      ],
      "metadata": {
        "id": "gYBpbaUiXK5Q"
      }
    },
    {
      "cell_type": "code",
      "source": [
        "import pandas as pd\n",
        "import numpy as np\n",
        "from sklearn.model_selection import train_test_split\n",
        "from sklearn.preprocessing import StandardScaler\n",
        "from sklearn.decomposition import PCA\n",
        "from sklearn.discriminant_analysis import LinearDiscriminantAnalysis\n",
        "from sklearn.ensemble import RandomForestClassifier\n",
        "from sklearn.metrics import accuracy_score, f1_score, precision_score, recall_score, confusion_matrix\n",
        "\n",
        "# Load the healthy and damaged datasets into Pandas dataframes\n",
        "df_healthy = Healthy.sample(n=500000)\n",
        "df_damaged = Damaged.sample(n=500000)\n",
        "\n",
        "# Concatenate the datasets and label the samples as healthy (0) or damaged (1)\n",
        "df = pd.concat([df_healthy, df_damaged], axis=0)\n",
        "df['label'] = np.concatenate([np.zeros(len(df_healthy)), np.ones(len(df_damaged))])\n",
        "\n",
        "# Separate the features and labels\n",
        "X = df.drop(['label'], axis = 1)\n",
        "y = df['label']\n",
        "\n",
        "# Split the data into training and testing sets\n",
        "X_train, X_test, y_train, y_test = train_test_split(X, y, test_size=0.2, random_state=42)\n",
        "\n",
        "# Apply standard scaling to the data\n",
        "scaler = StandardScaler()\n",
        "X_train_scaled = scaler.fit_transform(X_train)\n",
        "X_test_scaled = scaler.transform(X_test)\n",
        "\n",
        "# Apply PCA to the data\n",
        "pca = PCA(n_components=2)\n",
        "X_train_pca = pca.fit_transform(X_train_scaled)\n",
        "X_test_pca = pca.transform(X_test_scaled)\n",
        "\n",
        "# Apply LDA to the data\n",
        "lda = LinearDiscriminantAnalysis(n_components=1)\n",
        "X_train_lda = lda.fit_transform(X_train_scaled, y_train)\n",
        "X_test_lda = lda.transform(X_test_scaled)"
      ],
      "metadata": {
        "id": "3vQeczbY_3lb"
      },
      "execution_count": null,
      "outputs": []
    },
    {
      "cell_type": "code",
      "source": [
        "# Train and evaluate Random Forest with PCA\n",
        "rf_pca = RandomForestClassifier(n_estimators=100, random_state=42)\n",
        "rf_pca.fit(X_train_pca, y_train)\n",
        "y_pred_pca = rf_pca.predict(X_test_pca)\n",
        "\n",
        "print('Random Forest with PCA:')\n",
        "print('Accuracy:', accuracy_score(y_test, y_pred_pca))\n",
        "print('F1:', f1_score(y_test, y_pred_pca))\n",
        "print('Precision:', precision_score(y_test, y_pred_pca))\n",
        "print('Recall:', recall_score(y_test, y_pred_pca))\n",
        "print('Confusion Matrix:', confusion_matrix(y_test, y_pred_pca))"
      ],
      "metadata": {
        "colab": {
          "base_uri": "https://localhost:8080/"
        },
        "id": "YdO4S_9x_7rZ",
        "outputId": "370ba5fb-8bf5-4b19-9cbc-cb1376b23056"
      },
      "execution_count": null,
      "outputs": [
        {
          "output_type": "stream",
          "name": "stdout",
          "text": [
            "Random Forest with PCA:\n",
            "Accuracy: 0.730525\n",
            "F1: 0.712880043045352\n",
            "Precision: 0.762942437511403\n",
            "Recall: 0.6689830322058132\n",
            "Confusion Matrix: [[79198 20789]\n",
            " [33106 66907]]\n"
          ]
        }
      ]
    },
    {
      "cell_type": "code",
      "source": [
        "# Train and evaluate Random Forest with LDA\n",
        "rf_lda = RandomForestClassifier(n_estimators=100, random_state=42)\n",
        "rf_lda.fit(X_train_lda, y_train)\n",
        "y_pred_lda = rf_lda.predict(X_test_lda)\n",
        "\n",
        "print('Random Forest with LDA:')\n",
        "print('Accuracy:', accuracy_score(y_test, y_pred_lda))\n",
        "print('F1:', f1_score(y_test, y_pred_lda))\n",
        "print('Precision:', precision_score(y_test, y_pred_lda))\n",
        "print('Recall:', recall_score(y_test, y_pred_lda))\n",
        "print('Confusion Matrix:', confusion_matrix(y_test, y_pred_lda))"
      ],
      "metadata": {
        "colab": {
          "base_uri": "https://localhost:8080/"
        },
        "id": "m48mBT4kABQI",
        "outputId": "3b013868-2cf0-47d9-d0c6-92cae1ba8935"
      },
      "execution_count": null,
      "outputs": [
        {
          "output_type": "stream",
          "name": "stdout",
          "text": [
            "Random Forest with LDA:\n",
            "Accuracy: 0.5531\n",
            "F1: 0.5529122231337161\n",
            "Precision: 0.5532166201215178\n",
            "Recall: 0.5526081609390779\n",
            "Confusion Matrix: [[55352 44635]\n",
            " [44745 55268]]\n"
          ]
        }
      ]
    },
    {
      "cell_type": "code",
      "source": [],
      "metadata": {
        "id": "jgAN_UNUHrtR"
      },
      "execution_count": null,
      "outputs": []
    }
  ]
}